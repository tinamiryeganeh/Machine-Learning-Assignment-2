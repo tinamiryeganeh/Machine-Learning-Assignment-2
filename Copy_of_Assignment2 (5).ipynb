{
  "nbformat": 4,
  "nbformat_minor": 0,
  "metadata": {
    "colab": {
      "name": "Copy of Assignment2.ipynb",
      "provenance": [],
      "collapsed_sections": []
    },
    "kernelspec": {
      "display_name": "Python 3",
      "language": "python",
      "name": "python3"
    },
    "language_info": {
      "codemirror_mode": {
        "name": "ipython",
        "version": 3
      },
      "file_extension": ".py",
      "mimetype": "text/x-python",
      "name": "python",
      "nbconvert_exporter": "python",
      "pygments_lexer": "ipython3",
      "version": "3.8.5"
    }
  },
  "cells": [
    {
      "cell_type": "code",
      "metadata": {
        "id": "2IlwhV0z2nMr"
      },
      "source": [
        "%matplotlib inline"
      ],
      "execution_count": 207,
      "outputs": []
    },
    {
      "cell_type": "markdown",
      "metadata": {
        "id": "Chprzdhe2nMw"
      },
      "source": [
        "# Assignment 2\n",
        "\n",
        "**DUE: Sunday October 24 at 11:59pm**\n",
        "\n",
        "Turn in the assignment via Canvas.\n",
        "\n",
        "To write legible answers you will need to be familiar with both [Markdown](https://github.com/adam-p/markdown-here/wiki/Markdown-Cheatsheet) and [Latex](https://www.latex-tutorial.com/tutorials/amsmath/)\n",
        "\n",
        "Before you turn this problem in, make sure everything runs as expected. First, restart the kernel (in the menubar, select Runtime→→Restart runtime) and then run all cells (in the menubar, select Runtime→→Run All).\n",
        "\n",
        "Make sure you fill in any place that says \"YOUR CODE HERE\" or \"YOUR ANSWER HERE\", as well as your name below:"
      ]
    },
    {
      "cell_type": "code",
      "metadata": {
        "id": "8jeWubXE2nMx"
      },
      "source": [
        "NAME = \"Seyedeh Tina Miryeganeh\"\n",
        "STUDENT_ID = \"1815127\""
      ],
      "execution_count": 208,
      "outputs": []
    },
    {
      "cell_type": "markdown",
      "metadata": {
        "id": "ozDglVovkHJJ"
      },
      "source": [
        "## Problem 1 - Yield Dataset with Polynomial Regression"
      ]
    },
    {
      "cell_type": "code",
      "metadata": {
        "id": "7qm6WAqNPRRu"
      },
      "source": [
        "import numpy as np\n",
        "import matplotlib.pyplot as plt\n",
        "import pandas as pd\n",
        "import seaborn as sns"
      ],
      "execution_count": 209,
      "outputs": []
    },
    {
      "cell_type": "markdown",
      "metadata": {
        "id": "q20rkd3LlkHs"
      },
      "source": [
        "This dataset of size $n = 15$ contains measurements of yield from an experiment done at five different temperature levels. The variables are $y = yield$ and $x = temperature$ in degrees Fahrenheit. Download the data from PyDrive."
      ]
    },
    {
      "cell_type": "code",
      "metadata": {
        "id": "oyKWchKWIvPi"
      },
      "source": [
        "!pip install -U -q PyDrive\n",
        "from pydrive.auth import GoogleAuth\n",
        "from pydrive.drive import GoogleDrive\n",
        "from google.colab import auth\n",
        "from oauth2client.client import GoogleCredentials"
      ],
      "execution_count": 210,
      "outputs": []
    },
    {
      "cell_type": "code",
      "metadata": {
        "id": "UwexIqp8I_lF"
      },
      "source": [
        "auth.authenticate_user()\n",
        "gauth = GoogleAuth()\n",
        "gauth.credentials = GoogleCredentials.get_application_default()\n",
        "drive = GoogleDrive(gauth)"
      ],
      "execution_count": 211,
      "outputs": []
    },
    {
      "cell_type": "code",
      "metadata": {
        "id": "dLF5xucumaai"
      },
      "source": [
        "downloaded = drive.CreateFile({'id':\"1snU4nKrW72fgaEYzWvnrK0iRhsVX2W7N\"})\n",
        "downloaded.GetContentFile('yield.csv')  "
      ],
      "execution_count": 212,
      "outputs": []
    },
    {
      "cell_type": "code",
      "metadata": {
        "id": "kpxch0eIm2D3"
      },
      "source": [
        "# Create pandas dataframe\n",
        "data = pd.read_csv('yield.csv')"
      ],
      "execution_count": 213,
      "outputs": []
    },
    {
      "cell_type": "code",
      "metadata": {
        "id": "wEGGgoy6nD4w",
        "colab": {
          "base_uri": "https://localhost:8080/",
          "height": 514
        },
        "outputId": "62df973e-78bd-4d3b-8a20-6065f337e63f"
      },
      "source": [
        "# Let's look at the data\n",
        "data"
      ],
      "execution_count": 214,
      "outputs": [
        {
          "output_type": "execute_result",
          "data": {
            "text/html": [
              "<div>\n",
              "<style scoped>\n",
              "    .dataframe tbody tr th:only-of-type {\n",
              "        vertical-align: middle;\n",
              "    }\n",
              "\n",
              "    .dataframe tbody tr th {\n",
              "        vertical-align: top;\n",
              "    }\n",
              "\n",
              "    .dataframe thead th {\n",
              "        text-align: right;\n",
              "    }\n",
              "</style>\n",
              "<table border=\"1\" class=\"dataframe\">\n",
              "  <thead>\n",
              "    <tr style=\"text-align: right;\">\n",
              "      <th></th>\n",
              "      <th>Temp</th>\n",
              "      <th>Yield</th>\n",
              "    </tr>\n",
              "  </thead>\n",
              "  <tbody>\n",
              "    <tr>\n",
              "      <th>0</th>\n",
              "      <td>50</td>\n",
              "      <td>3.3</td>\n",
              "    </tr>\n",
              "    <tr>\n",
              "      <th>1</th>\n",
              "      <td>50</td>\n",
              "      <td>2.8</td>\n",
              "    </tr>\n",
              "    <tr>\n",
              "      <th>2</th>\n",
              "      <td>50</td>\n",
              "      <td>2.9</td>\n",
              "    </tr>\n",
              "    <tr>\n",
              "      <th>3</th>\n",
              "      <td>70</td>\n",
              "      <td>2.3</td>\n",
              "    </tr>\n",
              "    <tr>\n",
              "      <th>4</th>\n",
              "      <td>70</td>\n",
              "      <td>2.6</td>\n",
              "    </tr>\n",
              "    <tr>\n",
              "      <th>5</th>\n",
              "      <td>70</td>\n",
              "      <td>2.1</td>\n",
              "    </tr>\n",
              "    <tr>\n",
              "      <th>6</th>\n",
              "      <td>80</td>\n",
              "      <td>2.5</td>\n",
              "    </tr>\n",
              "    <tr>\n",
              "      <th>7</th>\n",
              "      <td>80</td>\n",
              "      <td>2.9</td>\n",
              "    </tr>\n",
              "    <tr>\n",
              "      <th>8</th>\n",
              "      <td>80</td>\n",
              "      <td>2.4</td>\n",
              "    </tr>\n",
              "    <tr>\n",
              "      <th>9</th>\n",
              "      <td>90</td>\n",
              "      <td>3.0</td>\n",
              "    </tr>\n",
              "    <tr>\n",
              "      <th>10</th>\n",
              "      <td>90</td>\n",
              "      <td>3.1</td>\n",
              "    </tr>\n",
              "    <tr>\n",
              "      <th>11</th>\n",
              "      <td>90</td>\n",
              "      <td>2.8</td>\n",
              "    </tr>\n",
              "    <tr>\n",
              "      <th>12</th>\n",
              "      <td>100</td>\n",
              "      <td>3.3</td>\n",
              "    </tr>\n",
              "    <tr>\n",
              "      <th>13</th>\n",
              "      <td>100</td>\n",
              "      <td>3.5</td>\n",
              "    </tr>\n",
              "    <tr>\n",
              "      <th>14</th>\n",
              "      <td>100</td>\n",
              "      <td>3.0</td>\n",
              "    </tr>\n",
              "  </tbody>\n",
              "</table>\n",
              "</div>"
            ],
            "text/plain": [
              "    Temp  Yield\n",
              "0     50    3.3\n",
              "1     50    2.8\n",
              "2     50    2.9\n",
              "3     70    2.3\n",
              "4     70    2.6\n",
              "5     70    2.1\n",
              "6     80    2.5\n",
              "7     80    2.9\n",
              "8     80    2.4\n",
              "9     90    3.0\n",
              "10    90    3.1\n",
              "11    90    2.8\n",
              "12   100    3.3\n",
              "13   100    3.5\n",
              "14   100    3.0"
            ]
          },
          "metadata": {},
          "execution_count": 214
        }
      ]
    },
    {
      "cell_type": "code",
      "metadata": {
        "id": "u1E3XKXgnIqq",
        "colab": {
          "base_uri": "https://localhost:8080/",
          "height": 297
        },
        "outputId": "dde19566-faf9-4504-af5b-ba53ab4e66a9"
      },
      "source": [
        "# Look at data description\n",
        "data.describe()"
      ],
      "execution_count": 215,
      "outputs": [
        {
          "output_type": "execute_result",
          "data": {
            "text/html": [
              "<div>\n",
              "<style scoped>\n",
              "    .dataframe tbody tr th:only-of-type {\n",
              "        vertical-align: middle;\n",
              "    }\n",
              "\n",
              "    .dataframe tbody tr th {\n",
              "        vertical-align: top;\n",
              "    }\n",
              "\n",
              "    .dataframe thead th {\n",
              "        text-align: right;\n",
              "    }\n",
              "</style>\n",
              "<table border=\"1\" class=\"dataframe\">\n",
              "  <thead>\n",
              "    <tr style=\"text-align: right;\">\n",
              "      <th></th>\n",
              "      <th>Temp</th>\n",
              "      <th>Yield</th>\n",
              "    </tr>\n",
              "  </thead>\n",
              "  <tbody>\n",
              "    <tr>\n",
              "      <th>count</th>\n",
              "      <td>15.000000</td>\n",
              "      <td>15.000000</td>\n",
              "    </tr>\n",
              "    <tr>\n",
              "      <th>mean</th>\n",
              "      <td>78.000000</td>\n",
              "      <td>2.833333</td>\n",
              "    </tr>\n",
              "    <tr>\n",
              "      <th>std</th>\n",
              "      <td>17.808505</td>\n",
              "      <td>0.395811</td>\n",
              "    </tr>\n",
              "    <tr>\n",
              "      <th>min</th>\n",
              "      <td>50.000000</td>\n",
              "      <td>2.100000</td>\n",
              "    </tr>\n",
              "    <tr>\n",
              "      <th>25%</th>\n",
              "      <td>70.000000</td>\n",
              "      <td>2.550000</td>\n",
              "    </tr>\n",
              "    <tr>\n",
              "      <th>50%</th>\n",
              "      <td>80.000000</td>\n",
              "      <td>2.900000</td>\n",
              "    </tr>\n",
              "    <tr>\n",
              "      <th>75%</th>\n",
              "      <td>90.000000</td>\n",
              "      <td>3.050000</td>\n",
              "    </tr>\n",
              "    <tr>\n",
              "      <th>max</th>\n",
              "      <td>100.000000</td>\n",
              "      <td>3.500000</td>\n",
              "    </tr>\n",
              "  </tbody>\n",
              "</table>\n",
              "</div>"
            ],
            "text/plain": [
              "             Temp      Yield\n",
              "count   15.000000  15.000000\n",
              "mean    78.000000   2.833333\n",
              "std     17.808505   0.395811\n",
              "min     50.000000   2.100000\n",
              "25%     70.000000   2.550000\n",
              "50%     80.000000   2.900000\n",
              "75%     90.000000   3.050000\n",
              "max    100.000000   3.500000"
            ]
          },
          "metadata": {},
          "execution_count": 215
        }
      ]
    },
    {
      "cell_type": "code",
      "metadata": {
        "id": "_CZhvRnRogIL",
        "colab": {
          "base_uri": "https://localhost:8080/"
        },
        "outputId": "e94028b2-1e90-40f1-dbc6-e7237b2bd8fe"
      },
      "source": [
        "# Split data in X and y using pandas functionality.\n",
        "X = data.iloc[:,0] # Create vector of explanatory variables\n",
        "y = data.iloc[:,1] # Create vector of target variables\n",
        "\n",
        "# Cast dataframes into numpy arrays\n",
        "X = X.values\n",
        "y = y.values\n",
        "\n",
        "# Split data into X_train, Y_train, X_test y_test using sklearn\n",
        "from sklearn.model_selection import train_test_split\n",
        "X_train, X_test, y_train, y_test = train_test_split(X, y, test_size = 0.30, random_state = 0)\n",
        "\n",
        "print(X_train.shape, X_test.shape, y_train.shape, y_test.shape)\n",
        "\n",
        "# Reshape X_train, X_test for sklearn LinearRegression\n",
        "X_train = X_train.reshape(-1,1)\n",
        "X_test = X_test.reshape(-1,1)"
      ],
      "execution_count": 216,
      "outputs": [
        {
          "output_type": "stream",
          "name": "stdout",
          "text": [
            "(10,) (5,) (10,) (5,)\n"
          ]
        }
      ]
    },
    {
      "cell_type": "markdown",
      "metadata": {
        "id": "P-6uuoH9m31F"
      },
      "source": [
        "### a) Linear Regression (10 points)"
      ]
    },
    {
      "cell_type": "markdown",
      "metadata": {
        "id": "cO7NdJ0YnNfi"
      },
      "source": [
        "We will run a simple linear regression on this well-curated dataset using sklearn's **LinearRegression**.\n",
        "\n",
        "Hint: Review the sklearn docs https://scikit-learn.org/stable/modules/generated/sklearn.linear_model.LinearRegression.html and class exercise."
      ]
    },
    {
      "cell_type": "code",
      "metadata": {
        "id": "dvZTcsNzpZXq",
        "colab": {
          "base_uri": "https://localhost:8080/"
        },
        "outputId": "bb172eea-d9f8-47e4-b02e-7350b67f0eb3"
      },
      "source": [
        "from sklearn.linear_model import LinearRegression\n",
        "# Instantiate LinearRegression\n",
        "#regressor = ### YOUR CODE HERE ### \n",
        "regressor = LinearRegression()\n",
        "\n",
        "# Fit the regressor using X_train and y_train\n",
        "\n",
        "### YOUR CODE HERE ###\n",
        "regressor.fit(X_train, y_train)"
      ],
      "execution_count": 217,
      "outputs": [
        {
          "output_type": "execute_result",
          "data": {
            "text/plain": [
              "LinearRegression(copy_X=True, fit_intercept=True, n_jobs=None, normalize=False)"
            ]
          },
          "metadata": {},
          "execution_count": 217
        }
      ]
    },
    {
      "cell_type": "markdown",
      "metadata": {
        "id": "YEUvILxltp1o"
      },
      "source": [
        "Let's now visually inspect the model and see how well this model predicts the yield. \n",
        "* First, plot the yield vs. temperature points from training set in black.\n",
        "* Then, plot the regression line in red. Predictions from the regression model lie along the red line."
      ]
    },
    {
      "cell_type": "code",
      "metadata": {
        "id": "qkaRSeQxs00h",
        "colab": {
          "base_uri": "https://localhost:8080/",
          "height": 529
        },
        "outputId": "61fb36f4-a9e4-4500-dd3e-431ba23d4bea"
      },
      "source": [
        "\n",
        "# Plot the actual yield (y_train) vs. temperature values from training set\n",
        "\n",
        "### YOUR CODE HERE ###\n",
        "\n",
        "# plt.scatter(X_train, y_train, color='black')\n",
        "plt.plot(X_train, y_train, 'o' ,color='black')\n",
        "# plt.title('yield vs. temperature points from training set')\n",
        "plt.show()\n",
        "\n",
        "\n",
        "# Plot the regression line\n",
        "### YOUR CODE HERE ###\n",
        "\n",
        "y_train_predict = regressor.predict(X_train)\n",
        "plt.scatter(X_train, y_train, color='black')\n",
        "plt.plot(X_train, y_train_predict, color='red', linewidth=3)\n",
        "plt.title('Plot the regression line')\n",
        "plt.show()\n",
        "\n"
      ],
      "execution_count": 218,
      "outputs": [
        {
          "output_type": "display_data",
          "data": {
            "image/png": "[encoded data removed]",
            "text/plain": [
              "<Figure size 432x288 with 1 Axes>"
            ]
          },
          "metadata": {
            "needs_background": "light"
          }
        },
        {
          "output_type": "display_data",
          "data": {
            "image/png": "[encoded data removed]",
            "text/plain": [
              "<Figure size 432x288 with 1 Axes>"
            ]
          },
          "metadata": {
            "needs_background": "light"
          }
        }
      ]
    },
    {
      "cell_type": "markdown",
      "metadata": {
        "id": "VDEu6LcfuLG4"
      },
      "source": [
        "Let's also visually inspect the prediction results from the test set.\n",
        "* First, plot the yield vs. temperature points from the test set in black\n",
        "* Then plot the regression line in red to see how prediction is similar to or different from the actual target."
      ]
    },
    {
      "cell_type": "code",
      "metadata": {
        "id": "pNppCKKTrHtW",
        "colab": {
          "base_uri": "https://localhost:8080/",
          "height": 529
        },
        "outputId": "550a4404-bbbc-415d-dffc-d39bf7b99b2a"
      },
      "source": [
        "# Plot the actual yield (y_test) vs. temperature values  for the test set\n",
        "\n",
        "# ### YOUR CODE HERE ###\n",
        "# plt.scatter(X_test, y_test, color='black')\n",
        "plt.plot(X_test, y_test, 'o', color='black')\n",
        "# plt.title('yield vs. temperature points from test set')\n",
        "plt.show()\n",
        "\n",
        "# Plot the regression line\n",
        "### YOUR CODE HERE ###\n",
        "y_train_predict = regressor.predict(X_test)\n",
        "plt.scatter(X_test, y_test, color='black')\n",
        "plt.plot(X_test, y_train_predict, color='red', linewidth=3)\n",
        "plt.title('Plot the regression line')\n",
        "plt.show()\n",
        "\n",
        "\n"
      ],
      "execution_count": 219,
      "outputs": [
        {
          "output_type": "display_data",
          "data": {
            "image/png": "[encoded data removed]",
            "text/plain": [
              "<Figure size 432x288 with 1 Axes>"
            ]
          },
          "metadata": {
            "needs_background": "light"
          }
        },
        {
          "output_type": "display_data",
          "data": {
            "image/png": "[encoded data removed]",
            "text/plain": [
              "<Figure size 432x288 with 1 Axes>"
            ]
          },
          "metadata": {
            "needs_background": "light"
          }
        }
      ]
    },
    {
      "cell_type": "markdown",
      "metadata": {
        "id": "dlHfuG_UYnfG"
      },
      "source": [
        "### b) Inspecting Linear Regression Model (5 points)"
      ]
    },
    {
      "cell_type": "markdown",
      "metadata": {
        "id": "nNWLywqeuzR9"
      },
      "source": [
        "After inspecting the results visually, does this model appear to be a good or bad fit on the test set and training set? "
      ]
    },
    {
      "cell_type": "markdown",
      "metadata": {
        "id": "og-QtiEOvKgn"
      },
      "source": [
        "[YOUR ANSWER HERE]\n",
        "It is bad fit since it didn't cover some features on the trainning and the testing  "
      ]
    },
    {
      "cell_type": "markdown",
      "metadata": {
        "id": "OrI7XG0qP0aW"
      },
      "source": [
        "Does the model display signs of underfitting? If so, why?"
      ]
    },
    {
      "cell_type": "markdown",
      "metadata": {
        "id": "1z9GhfWcP_eO"
      },
      "source": [
        "[YOUR ANSWER HERE]\n",
        "Yes, because it seems that this model is generating a high error rate on both the training set and testing set both."
      ]
    },
    {
      "cell_type": "markdown",
      "metadata": {
        "id": "UfmMI_k5vZLx"
      },
      "source": [
        "### c) Polynomial Regression (10 points)"
      ]
    },
    {
      "cell_type": "markdown",
      "metadata": {
        "id": "-OVJMeKAyb2J"
      },
      "source": [
        "Data may not follow a linear relationship from the independent variable $X$ to the dependent variable $y$. Fitting a linear model to this would be inaccurate and yield a high loss. \n",
        "\n",
        "If we want to model an order $d$ polynomial relationship between $X$ and $y$ we can augment our initial linear model where instead of having:\n",
        "$$\n",
        "y^{(i)} = \\theta_0 + \\theta_1 x^{(i)}\n",
        "$$\n",
        "\n",
        "We have:\n",
        "\n",
        "$$\n",
        "y^{(i)} = \\theta_0 + \\theta_1 x^{(i)} + \\theta_2 {x^{(i)}}^2 + \\cdots + \\theta_d {x^{(i)}}^d\n",
        "$$\n",
        "\n",
        "We can use the same linear regression algorithm we if we first augment $X$ and add extra columns (or dimensions). \n",
        "\n",
        "$$ \\textbf X =\n",
        "\\begin{bmatrix}\n",
        "    x^{(1)}       & {x^{(1)}}^2 & \\cdots & {x^{(1)}}^d \\\\\n",
        "    x^{(2)}       & {x^{(2)}}^2 & \\cdots & {x^{(2)}}^d \\\\\n",
        "    \\vdots       & \\vdots & \\ddots & \\vdots \\\\\n",
        "    x^{(n)}       & {x^{(n)}}^2 & \\cdots & {x^{(n)}}^d\n",
        "\\end{bmatrix}$$\n",
        "\n",
        "Then our new higher order $\\hat Y$ is computed same as before.\n",
        "\n",
        "$$ \\hat Y =  X \\theta =\n",
        "\\begin{bmatrix}\n",
        "    1 & x^{(1)}       & {x^{(1)}}^2 & \\cdots & {x^{(1)}}^d \\\\\n",
        "    1 & x^{(2)}       & {x^{(2)}}^2 & \\cdots & {x^{(2)}}^d \\\\\n",
        "    \\vdots & \\vdots       & \\vdots & \\ddots & \\vdots \\\\\n",
        "    1 & x^{(n)}       & {x^{(n)}}^2 & \\cdots & {x^{(n)}}^d\n",
        "\\end{bmatrix}\n",
        "\\begin{bmatrix}\\theta_0 \\\\ \\theta_1 \\\\ \\vdots \\\\ \\theta_{d} \n",
        "\\end{bmatrix}=\n",
        "\\begin{bmatrix}\n",
        "    \\theta_0 + \\theta_1 x^{(1)} + \\theta_2 {x^{(1)}}^2 + \\cdots + \\theta_{d}  {x^{(1)}}^d \\\\\n",
        "    \\theta_0 + \\theta_1 x^{(2)} + \\theta_2 {x^{(2)}}^2 + \\cdots + \\theta_{d}  {x^{(2)}}^d  \\\\\n",
        "    \\vdots   \\\\\n",
        "    \\theta_0 + \\theta_1 x^{(n)} + \\theta_2 {x^{(n)}}^2 + \\cdots + \\theta_{d}  {x^{(n)}}^d\n",
        "\\end{bmatrix} \n",
        "= \\begin{bmatrix}\\hat y^{(1)} \\\\ \\hat y^{(2)} \\\\ \\vdots \\\\ \\hat y^{(n)} \n",
        "\\end{bmatrix}$$"
      ]
    },
    {
      "cell_type": "markdown",
      "metadata": {
        "id": "GEgFFYh9vppr"
      },
      "source": [
        "Using sklearn's **PolynomialFeatures** functionality, we will now transform X_train and X_test into second order polynomial space.\n",
        "\n",
        "For more info: https://scikit-learn.org/stable/modules/generated/sklearn.preprocessing.PolynomialFeatures.html"
      ]
    },
    {
      "cell_type": "code",
      "metadata": {
        "id": "KTMHoLIxw61l",
        "colab": {
          "base_uri": "https://localhost:8080/"
        },
        "outputId": "de276b4c-d802-4159-9b37-ac7dbdd9a610"
      },
      "source": [
        "# First, lets look at the values of X_train\n",
        "print(X_train)"
      ],
      "execution_count": 220,
      "outputs": [
        {
          "output_type": "stream",
          "name": "stdout",
          "text": [
            "[[ 70]\n",
            " [ 50]\n",
            " [100]\n",
            " [ 90]\n",
            " [ 80]\n",
            " [ 90]\n",
            " [ 70]\n",
            " [ 50]\n",
            " [ 70]\n",
            " [100]]\n"
          ]
        }
      ]
    },
    {
      "cell_type": "code",
      "metadata": {
        "id": "kPEUwbX0wN5-",
        "colab": {
          "base_uri": "https://localhost:8080/"
        },
        "outputId": "afe7fa8b-3c4f-4d61-ed61-5fb0c4bbf2a2"
      },
      "source": [
        "from sklearn.preprocessing import PolynomialFeatures\n",
        "\n",
        "# Creates polynomial transform of degree 2\n",
        "poly = PolynomialFeatures(2)\n",
        "\n",
        "# Transform X_train X_test\n",
        "X_train_pol = poly.fit_transform(X_train)\n",
        "X_test_pol = poly.fit_transform(X_test)\n",
        "\n",
        "# Print X_train_pol\n",
        "print(X_train_pol)"
      ],
      "execution_count": 221,
      "outputs": [
        {
          "output_type": "stream",
          "name": "stdout",
          "text": [
            "[[1.0e+00 7.0e+01 4.9e+03]\n",
            " [1.0e+00 5.0e+01 2.5e+03]\n",
            " [1.0e+00 1.0e+02 1.0e+04]\n",
            " [1.0e+00 9.0e+01 8.1e+03]\n",
            " [1.0e+00 8.0e+01 6.4e+03]\n",
            " [1.0e+00 9.0e+01 8.1e+03]\n",
            " [1.0e+00 7.0e+01 4.9e+03]\n",
            " [1.0e+00 5.0e+01 2.5e+03]\n",
            " [1.0e+00 7.0e+01 4.9e+03]\n",
            " [1.0e+00 1.0e+02 1.0e+04]]\n"
          ]
        }
      ]
    },
    {
      "cell_type": "markdown",
      "metadata": {
        "id": "FByoPNOWxK_o"
      },
      "source": [
        "We can now fit a second degree polynomial regression model to the transformed data."
      ]
    },
    {
      "cell_type": "code",
      "metadata": {
        "id": "z2nbImhTzHDV",
        "colab": {
          "base_uri": "https://localhost:8080/"
        },
        "outputId": "7894645b-6985-4cb9-fd7d-6fdd855bdcfa"
      },
      "source": [
        "from sklearn.linear_model import LinearRegression\n",
        "# Instantiate LinearRegression\n",
        "regressor = LinearRegression() \n",
        "\n",
        "# Fit the regressor using X_train_pol and y_train\n",
        "\n",
        "### YOUR CODE HERE ###\n",
        "regressor.fit(X_train_pol, y_train)"
      ],
      "execution_count": 222,
      "outputs": [
        {
          "output_type": "execute_result",
          "data": {
            "text/plain": [
              "LinearRegression(copy_X=True, fit_intercept=True, n_jobs=None, normalize=False)"
            ]
          },
          "metadata": {},
          "execution_count": 222
        }
      ]
    },
    {
      "cell_type": "markdown",
      "metadata": {
        "id": "P2mFEIoB0IdM"
      },
      "source": [
        "Now, visually inspect the polynomial regression model and see how well this model predicts the yield on the training set. \n",
        "\n",
        "Plot the yield vs. temperature points in black along with the polynomial regression line in red. Hint: For plotting the regression line, you can use the plot function to interpolate the regression line based on the model's prediction on data points."
      ]
    },
    {
      "cell_type": "code",
      "metadata": {
        "id": "nZ3TpGZ30IdN",
        "colab": {
          "base_uri": "https://localhost:8080/",
          "height": 529
        },
        "outputId": "fb3492fd-b3e4-493c-f3ff-bce4eb80c476"
      },
      "source": [
        "# Plot the actual yield (y_train) vs temp. values from training set\n",
        "\n",
        "### YOUR CODE HERE ###\n",
        "#plt.scatter(X_train, y_train, color='black')\n",
        "plt.plot(X_train, y_train, 'o' ,color='black')\n",
        "# plt.scatter(X_test, y_test, color='black')\n",
        "# plt.plot(X_test, y_test, color='black', linewidth=3)\n",
        "# plt.title('yield vs. temperature points from test set')\n",
        "plt.show()\n",
        "\n",
        "# Plot the regression line\n",
        "\n",
        "### YOUR CODE HERE ###\n",
        "\n",
        "y_train_predict = regressor.predict(X_train_pol)\n",
        "plt.scatter(X_train, y_train, color='black')\n",
        "plt.plot(X_train, y_train_predict, color='red', linewidth=3)\n",
        "plt.title('Plot the regression line')\n",
        "plt.show()\n"
      ],
      "execution_count": 223,
      "outputs": [
        {
          "output_type": "display_data",
          "data": {
            "image/png": "[encoded data removed]",
            "text/plain": [
              "<Figure size 432x288 with 1 Axes>"
            ]
          },
          "metadata": {
            "needs_background": "light"
          }
        },
        {
          "output_type": "display_data",
          "data": {
            "image/png": "[encoded data removed]",
            "text/plain": [
              "<Figure size 432x288 with 1 Axes>"
            ]
          },
          "metadata": {
            "needs_background": "light"
          }
        }
      ]
    },
    {
      "cell_type": "markdown",
      "metadata": {
        "id": "eiN6blfA0zsr"
      },
      "source": [
        "Lastly, let's plot the test set yield vs. temperature points along with the polynomial regression line."
      ]
    },
    {
      "cell_type": "code",
      "metadata": {
        "id": "3fcQtM8g00_z",
        "colab": {
          "base_uri": "https://localhost:8080/",
          "height": 529
        },
        "outputId": "b07b9da7-1b64-405e-bfbe-50cba0ab6557"
      },
      "source": [
        "# Plot the actual yield (y_test) vs temp. values from test set\n",
        "\n",
        "### YOUR CODE HERE ###\n",
        "#plt.scatter(X_train, y_train, color='black')\n",
        "plt.plot(X_test, y_test, 'o' ,color='black')\n",
        "# plt.scatter(X_test, y_test, color='black')\n",
        "# plt.plot(X_test, y_test, color='black', linewidth=3)\n",
        "# plt.title('yield vs. temperature points from test set')\n",
        "plt.show()\n",
        "\n",
        "# Plot the regression line\n",
        "\n",
        "### YOUR CODE HERE ###\n",
        "y_test_predict = regressor.predict(X_test_pol)\n",
        "plt.scatter(X_test, y_test, color='black')\n",
        "plt.plot(X_test, y_test_predict, color='red', linewidth=3)\n",
        "plt.title('Plot the regression line')\n",
        "plt.show()\n"
      ],
      "execution_count": 224,
      "outputs": [
        {
          "output_type": "display_data",
          "data": {
            "image/png": "[encoded data removed]",
            "text/plain": [
              "<Figure size 432x288 with 1 Axes>"
            ]
          },
          "metadata": {
            "needs_background": "light"
          }
        },
        {
          "output_type": "display_data",
          "data": {
            "image/png": "[encoded data removed]",
            "text/plain": [
              "<Figure size 432x288 with 1 Axes>"
            ]
          },
          "metadata": {
            "needs_background": "light"
          }
        }
      ]
    },
    {
      "cell_type": "markdown",
      "metadata": {
        "id": "Di8yHQU2Yukr"
      },
      "source": [
        "### d) Inpsecting Polynomial Regression Model (5 points)"
      ]
    },
    {
      "cell_type": "markdown",
      "metadata": {
        "id": "czHSwZxX-WfG"
      },
      "source": [
        "After inspecting the polynomial regression model, does the model appear to be a better fit than simple linear regression? "
      ]
    },
    {
      "cell_type": "markdown",
      "metadata": {
        "id": "nEXJnHhG-pJ-"
      },
      "source": [
        "[YOUR ANSWER HERE]\n",
        "\n",
        "\n",
        "\n",
        "Yes it fits better because it sees the data better in both trainign and testing set in compare to a simple linear regression."
      ]
    },
    {
      "cell_type": "markdown",
      "metadata": {
        "id": "1_-ZNVBuQJ0X"
      },
      "source": [
        "Does the model address display more or less underfitting than the simple linear regression model and why?"
      ]
    },
    {
      "cell_type": "markdown",
      "metadata": {
        "id": "dLeDdBynQO0Y"
      },
      "source": [
        "[YOUR ANSWER HERE]\n",
        "\n",
        "\n",
        "\n",
        "\n",
        "It is less underfitting because it is a curve seeing all the dots in the plot shows that the rate of error should be less in both sets. "
      ]
    },
    {
      "cell_type": "markdown",
      "metadata": {
        "id": "CazISR8X_HUG"
      },
      "source": [
        "## Problem 2 - Fish Dataset"
      ]
    },
    {
      "cell_type": "markdown",
      "metadata": {
        "id": "vgC61-ah_WIz"
      },
      "source": [
        "## Importing the Dataset"
      ]
    },
    {
      "cell_type": "markdown",
      "metadata": {
        "id": "QlPD4uh5ImZE"
      },
      "source": [
        "We will now perform different variations of linear regression to predict fish weight given species type, weight, and physical measurements. The different attributes of the data are:\n",
        "\n",
        "- Species: species name of fish\n",
        "\n",
        "- Weight: weight of fish in Gram (g)\n",
        "\n",
        "- Length1: vertical length in (cm)\n",
        "\n",
        "- Length2: diagonal length in (cm)\n",
        "\n",
        "- Length3: cross length in (cm)\n",
        "\n",
        "- Height: height in (cm)\n",
        "\n",
        "- Width: diagonal width in (cm)\n",
        "\n",
        "Begin by downloading the Fish.csv file from google drive. Make sure to select your @ucsc.edu email when authorizing access to your account. "
      ]
    },
    {
      "cell_type": "code",
      "metadata": {
        "id": "RMy-21iKABVc"
      },
      "source": [
        "!pip install -U -q PyDrive\n",
        "from pydrive.auth import GoogleAuth\n",
        "from pydrive.drive import GoogleDrive\n",
        "from google.colab import auth\n",
        "from oauth2client.client import GoogleCredentials"
      ],
      "execution_count": 225,
      "outputs": []
    },
    {
      "cell_type": "code",
      "metadata": {
        "id": "BTvM0_JzABVc"
      },
      "source": [
        "auth.authenticate_user()\n",
        "gauth = GoogleAuth()\n",
        "gauth.credentials = GoogleCredentials.get_application_default()\n",
        "drive = GoogleDrive(gauth)"
      ],
      "execution_count": 226,
      "outputs": []
    },
    {
      "cell_type": "code",
      "metadata": {
        "id": "NLDSqS7_JD0j"
      },
      "source": [
        "# Download the Fish data\n",
        "downloaded = drive.CreateFile({'id':\"1AtMi-xCejVlhYS5qjgjjW4gH-TLuWJjC\"})\n",
        "downloaded.GetContentFile('Fish.csv')  "
      ],
      "execution_count": 227,
      "outputs": []
    },
    {
      "cell_type": "code",
      "metadata": {
        "id": "lWS9rMQjImZF"
      },
      "source": [
        "# Create pandas dataframe\n",
        "fish_data = pd.read_csv('Fish.csv')"
      ],
      "execution_count": 228,
      "outputs": []
    },
    {
      "cell_type": "markdown",
      "metadata": {
        "id": "tdr40HJxNb8Q"
      },
      "source": [
        "Let's look at some of the data and check some of the dataset descriptors."
      ]
    },
    {
      "cell_type": "code",
      "metadata": {
        "id": "L7jhsbgiNiWu",
        "colab": {
          "base_uri": "https://localhost:8080/",
          "height": 204
        },
        "outputId": "bca18e90-03d6-4784-8aa0-cb19d732ffe9"
      },
      "source": [
        "# Let's print out the first few rows\n",
        "fish_data.head()"
      ],
      "execution_count": 229,
      "outputs": [
        {
          "output_type": "execute_result",
          "data": {
            "text/html": [
              "<div>\n",
              "<style scoped>\n",
              "    .dataframe tbody tr th:only-of-type {\n",
              "        vertical-align: middle;\n",
              "    }\n",
              "\n",
              "    .dataframe tbody tr th {\n",
              "        vertical-align: top;\n",
              "    }\n",
              "\n",
              "    .dataframe thead th {\n",
              "        text-align: right;\n",
              "    }\n",
              "</style>\n",
              "<table border=\"1\" class=\"dataframe\">\n",
              "  <thead>\n",
              "    <tr style=\"text-align: right;\">\n",
              "      <th></th>\n",
              "      <th>Species</th>\n",
              "      <th>Weight</th>\n",
              "      <th>Length1</th>\n",
              "      <th>Length2</th>\n",
              "      <th>Length3</th>\n",
              "      <th>Height</th>\n",
              "      <th>Width</th>\n",
              "    </tr>\n",
              "  </thead>\n",
              "  <tbody>\n",
              "    <tr>\n",
              "      <th>0</th>\n",
              "      <td>Bream</td>\n",
              "      <td>242.0</td>\n",
              "      <td>23.2</td>\n",
              "      <td>25.4</td>\n",
              "      <td>30.0</td>\n",
              "      <td>11.5200</td>\n",
              "      <td>4.0200</td>\n",
              "    </tr>\n",
              "    <tr>\n",
              "      <th>1</th>\n",
              "      <td>Bream</td>\n",
              "      <td>290.0</td>\n",
              "      <td>24.0</td>\n",
              "      <td>26.3</td>\n",
              "      <td>31.2</td>\n",
              "      <td>12.4800</td>\n",
              "      <td>4.3056</td>\n",
              "    </tr>\n",
              "    <tr>\n",
              "      <th>2</th>\n",
              "      <td>Bream</td>\n",
              "      <td>340.0</td>\n",
              "      <td>23.9</td>\n",
              "      <td>26.5</td>\n",
              "      <td>31.1</td>\n",
              "      <td>12.3778</td>\n",
              "      <td>4.6961</td>\n",
              "    </tr>\n",
              "    <tr>\n",
              "      <th>3</th>\n",
              "      <td>Bream</td>\n",
              "      <td>363.0</td>\n",
              "      <td>26.3</td>\n",
              "      <td>29.0</td>\n",
              "      <td>33.5</td>\n",
              "      <td>12.7300</td>\n",
              "      <td>4.4555</td>\n",
              "    </tr>\n",
              "    <tr>\n",
              "      <th>4</th>\n",
              "      <td>Bream</td>\n",
              "      <td>430.0</td>\n",
              "      <td>26.5</td>\n",
              "      <td>29.0</td>\n",
              "      <td>34.0</td>\n",
              "      <td>12.4440</td>\n",
              "      <td>5.1340</td>\n",
              "    </tr>\n",
              "  </tbody>\n",
              "</table>\n",
              "</div>"
            ],
            "text/plain": [
              "  Species  Weight  Length1  Length2  Length3   Height   Width\n",
              "0   Bream   242.0     23.2     25.4     30.0  11.5200  4.0200\n",
              "1   Bream   290.0     24.0     26.3     31.2  12.4800  4.3056\n",
              "2   Bream   340.0     23.9     26.5     31.1  12.3778  4.6961\n",
              "3   Bream   363.0     26.3     29.0     33.5  12.7300  4.4555\n",
              "4   Bream   430.0     26.5     29.0     34.0  12.4440  5.1340"
            ]
          },
          "metadata": {},
          "execution_count": 229
        }
      ]
    },
    {
      "cell_type": "code",
      "metadata": {
        "id": "iL6vmfTMNqeI",
        "colab": {
          "base_uri": "https://localhost:8080/"
        },
        "outputId": "6a625d49-d8f0-41a9-81d1-a71d896e65b2"
      },
      "source": [
        "# Let's get the data shape\n",
        "fish_data.shape"
      ],
      "execution_count": 230,
      "outputs": [
        {
          "output_type": "execute_result",
          "data": {
            "text/plain": [
              "(159, 7)"
            ]
          },
          "metadata": {},
          "execution_count": 230
        }
      ]
    },
    {
      "cell_type": "code",
      "metadata": {
        "id": "uYMy04YkImZG",
        "colab": {
          "base_uri": "https://localhost:8080/",
          "height": 297
        },
        "outputId": "19b071b8-3633-445f-e44b-817e68ac379d"
      },
      "source": [
        "# Let's describe the data\n",
        "fish_data.describe()"
      ],
      "execution_count": 231,
      "outputs": [
        {
          "output_type": "execute_result",
          "data": {
            "text/html": [
              "<div>\n",
              "<style scoped>\n",
              "    .dataframe tbody tr th:only-of-type {\n",
              "        vertical-align: middle;\n",
              "    }\n",
              "\n",
              "    .dataframe tbody tr th {\n",
              "        vertical-align: top;\n",
              "    }\n",
              "\n",
              "    .dataframe thead th {\n",
              "        text-align: right;\n",
              "    }\n",
              "</style>\n",
              "<table border=\"1\" class=\"dataframe\">\n",
              "  <thead>\n",
              "    <tr style=\"text-align: right;\">\n",
              "      <th></th>\n",
              "      <th>Weight</th>\n",
              "      <th>Length1</th>\n",
              "      <th>Length2</th>\n",
              "      <th>Length3</th>\n",
              "      <th>Height</th>\n",
              "      <th>Width</th>\n",
              "    </tr>\n",
              "  </thead>\n",
              "  <tbody>\n",
              "    <tr>\n",
              "      <th>count</th>\n",
              "      <td>159.000000</td>\n",
              "      <td>159.000000</td>\n",
              "      <td>159.000000</td>\n",
              "      <td>159.000000</td>\n",
              "      <td>159.000000</td>\n",
              "      <td>159.000000</td>\n",
              "    </tr>\n",
              "    <tr>\n",
              "      <th>mean</th>\n",
              "      <td>398.326415</td>\n",
              "      <td>26.247170</td>\n",
              "      <td>28.415723</td>\n",
              "      <td>31.227044</td>\n",
              "      <td>8.970994</td>\n",
              "      <td>4.417486</td>\n",
              "    </tr>\n",
              "    <tr>\n",
              "      <th>std</th>\n",
              "      <td>357.978317</td>\n",
              "      <td>9.996441</td>\n",
              "      <td>10.716328</td>\n",
              "      <td>11.610246</td>\n",
              "      <td>4.286208</td>\n",
              "      <td>1.685804</td>\n",
              "    </tr>\n",
              "    <tr>\n",
              "      <th>min</th>\n",
              "      <td>0.000000</td>\n",
              "      <td>7.500000</td>\n",
              "      <td>8.400000</td>\n",
              "      <td>8.800000</td>\n",
              "      <td>1.728400</td>\n",
              "      <td>1.047600</td>\n",
              "    </tr>\n",
              "    <tr>\n",
              "      <th>25%</th>\n",
              "      <td>120.000000</td>\n",
              "      <td>19.050000</td>\n",
              "      <td>21.000000</td>\n",
              "      <td>23.150000</td>\n",
              "      <td>5.944800</td>\n",
              "      <td>3.385650</td>\n",
              "    </tr>\n",
              "    <tr>\n",
              "      <th>50%</th>\n",
              "      <td>273.000000</td>\n",
              "      <td>25.200000</td>\n",
              "      <td>27.300000</td>\n",
              "      <td>29.400000</td>\n",
              "      <td>7.786000</td>\n",
              "      <td>4.248500</td>\n",
              "    </tr>\n",
              "    <tr>\n",
              "      <th>75%</th>\n",
              "      <td>650.000000</td>\n",
              "      <td>32.700000</td>\n",
              "      <td>35.500000</td>\n",
              "      <td>39.650000</td>\n",
              "      <td>12.365900</td>\n",
              "      <td>5.584500</td>\n",
              "    </tr>\n",
              "    <tr>\n",
              "      <th>max</th>\n",
              "      <td>1650.000000</td>\n",
              "      <td>59.000000</td>\n",
              "      <td>63.400000</td>\n",
              "      <td>68.000000</td>\n",
              "      <td>18.957000</td>\n",
              "      <td>8.142000</td>\n",
              "    </tr>\n",
              "  </tbody>\n",
              "</table>\n",
              "</div>"
            ],
            "text/plain": [
              "            Weight     Length1     Length2     Length3      Height       Width\n",
              "count   159.000000  159.000000  159.000000  159.000000  159.000000  159.000000\n",
              "mean    398.326415   26.247170   28.415723   31.227044    8.970994    4.417486\n",
              "std     357.978317    9.996441   10.716328   11.610246    4.286208    1.685804\n",
              "min       0.000000    7.500000    8.400000    8.800000    1.728400    1.047600\n",
              "25%     120.000000   19.050000   21.000000   23.150000    5.944800    3.385650\n",
              "50%     273.000000   25.200000   27.300000   29.400000    7.786000    4.248500\n",
              "75%     650.000000   32.700000   35.500000   39.650000   12.365900    5.584500\n",
              "max    1650.000000   59.000000   63.400000   68.000000   18.957000    8.142000"
            ]
          },
          "metadata": {},
          "execution_count": 231
        }
      ]
    },
    {
      "cell_type": "code",
      "metadata": {
        "id": "qPM2fT7pImZH",
        "scrolled": true,
        "colab": {
          "base_uri": "https://localhost:8080/"
        },
        "outputId": "7478fb24-d6b8-4cf9-ad0d-240d9952cc5c"
      },
      "source": [
        "# Lastly, let's get data info\n",
        "fish_data.info()"
      ],
      "execution_count": 232,
      "outputs": [
        {
          "output_type": "stream",
          "name": "stdout",
          "text": [
            "<class 'pandas.core.frame.DataFrame'>\n",
            "RangeIndex: 159 entries, 0 to 158\n",
            "Data columns (total 7 columns):\n",
            " #   Column   Non-Null Count  Dtype  \n",
            "---  ------   --------------  -----  \n",
            " 0   Species  159 non-null    object \n",
            " 1   Weight   159 non-null    float64\n",
            " 2   Length1  159 non-null    float64\n",
            " 3   Length2  159 non-null    float64\n",
            " 4   Length3  159 non-null    float64\n",
            " 5   Height   159 non-null    float64\n",
            " 6   Width    159 non-null    float64\n",
            "dtypes: float64(6), object(1)\n",
            "memory usage: 8.8+ KB\n"
          ]
        }
      ]
    },
    {
      "cell_type": "markdown",
      "metadata": {
        "id": "nG9NvytqOK7s"
      },
      "source": [
        "### a) Removing 0's from data (5 points)"
      ]
    },
    {
      "cell_type": "markdown",
      "metadata": {
        "id": "expaCW7rOZO1"
      },
      "source": [
        "We can see that there aren't any null values in this dataset by using the .info() function. However, .describe() shows us there are weights of 0.0g which is ambiguous and is likely a recording error. \n",
        "\n",
        "Drop any row that has a weight of 0.0."
      ]
    },
    {
      "cell_type": "code",
      "metadata": {
        "id": "7yfCamcEImZJ",
        "colab": {
          "base_uri": "https://localhost:8080/",
          "height": 297
        },
        "outputId": "f5224413-460b-4777-af2a-bc6d6cc8b8f5"
      },
      "source": [
        "# Delete any rows for which there is a measurement of 0.0 for weight.\n",
        "### YOUR CODE HERE ###\n",
        "#fish_data[(fish_data[['Weight']] != 0).all(axis=1)]\n",
        "fish_data.drop(fish_data[fish_data['Weight'] == 0.0].index, inplace=True)\n",
        "\n",
        "# Let's take another look.\n",
        "fish_data.describe()"
      ],
      "execution_count": 233,
      "outputs": [
        {
          "output_type": "execute_result",
          "data": {
            "text/html": [
              "<div>\n",
              "<style scoped>\n",
              "    .dataframe tbody tr th:only-of-type {\n",
              "        vertical-align: middle;\n",
              "    }\n",
              "\n",
              "    .dataframe tbody tr th {\n",
              "        vertical-align: top;\n",
              "    }\n",
              "\n",
              "    .dataframe thead th {\n",
              "        text-align: right;\n",
              "    }\n",
              "</style>\n",
              "<table border=\"1\" class=\"dataframe\">\n",
              "  <thead>\n",
              "    <tr style=\"text-align: right;\">\n",
              "      <th></th>\n",
              "      <th>Weight</th>\n",
              "      <th>Length1</th>\n",
              "      <th>Length2</th>\n",
              "      <th>Length3</th>\n",
              "      <th>Height</th>\n",
              "      <th>Width</th>\n",
              "    </tr>\n",
              "  </thead>\n",
              "  <tbody>\n",
              "    <tr>\n",
              "      <th>count</th>\n",
              "      <td>158.000000</td>\n",
              "      <td>158.000000</td>\n",
              "      <td>158.000000</td>\n",
              "      <td>158.000000</td>\n",
              "      <td>158.000000</td>\n",
              "      <td>158.000000</td>\n",
              "    </tr>\n",
              "    <tr>\n",
              "      <th>mean</th>\n",
              "      <td>400.847468</td>\n",
              "      <td>26.293038</td>\n",
              "      <td>28.465823</td>\n",
              "      <td>31.280380</td>\n",
              "      <td>8.986790</td>\n",
              "      <td>4.424232</td>\n",
              "    </tr>\n",
              "    <tr>\n",
              "      <th>std</th>\n",
              "      <td>357.697796</td>\n",
              "      <td>10.011427</td>\n",
              "      <td>10.731707</td>\n",
              "      <td>11.627605</td>\n",
              "      <td>4.295191</td>\n",
              "      <td>1.689010</td>\n",
              "    </tr>\n",
              "    <tr>\n",
              "      <th>min</th>\n",
              "      <td>5.900000</td>\n",
              "      <td>7.500000</td>\n",
              "      <td>8.400000</td>\n",
              "      <td>8.800000</td>\n",
              "      <td>1.728400</td>\n",
              "      <td>1.047600</td>\n",
              "    </tr>\n",
              "    <tr>\n",
              "      <th>25%</th>\n",
              "      <td>121.250000</td>\n",
              "      <td>19.150000</td>\n",
              "      <td>21.000000</td>\n",
              "      <td>23.200000</td>\n",
              "      <td>5.940600</td>\n",
              "      <td>3.398650</td>\n",
              "    </tr>\n",
              "    <tr>\n",
              "      <th>50%</th>\n",
              "      <td>281.500000</td>\n",
              "      <td>25.300000</td>\n",
              "      <td>27.400000</td>\n",
              "      <td>29.700000</td>\n",
              "      <td>7.789000</td>\n",
              "      <td>4.277050</td>\n",
              "    </tr>\n",
              "    <tr>\n",
              "      <th>75%</th>\n",
              "      <td>650.000000</td>\n",
              "      <td>32.700000</td>\n",
              "      <td>35.750000</td>\n",
              "      <td>39.675000</td>\n",
              "      <td>12.371850</td>\n",
              "      <td>5.586750</td>\n",
              "    </tr>\n",
              "    <tr>\n",
              "      <th>max</th>\n",
              "      <td>1650.000000</td>\n",
              "      <td>59.000000</td>\n",
              "      <td>63.400000</td>\n",
              "      <td>68.000000</td>\n",
              "      <td>18.957000</td>\n",
              "      <td>8.142000</td>\n",
              "    </tr>\n",
              "  </tbody>\n",
              "</table>\n",
              "</div>"
            ],
            "text/plain": [
              "            Weight     Length1     Length2     Length3      Height       Width\n",
              "count   158.000000  158.000000  158.000000  158.000000  158.000000  158.000000\n",
              "mean    400.847468   26.293038   28.465823   31.280380    8.986790    4.424232\n",
              "std     357.697796   10.011427   10.731707   11.627605    4.295191    1.689010\n",
              "min       5.900000    7.500000    8.400000    8.800000    1.728400    1.047600\n",
              "25%     121.250000   19.150000   21.000000   23.200000    5.940600    3.398650\n",
              "50%     281.500000   25.300000   27.400000   29.700000    7.789000    4.277050\n",
              "75%     650.000000   32.700000   35.750000   39.675000   12.371850    5.586750\n",
              "max    1650.000000   59.000000   63.400000   68.000000   18.957000    8.142000"
            ]
          },
          "metadata": {},
          "execution_count": 233
        }
      ]
    },
    {
      "cell_type": "markdown",
      "metadata": {
        "id": "YldeqJEoImZJ"
      },
      "source": [
        "### b) Outlier Detection \\& Elimination (5 points)"
      ]
    },
    {
      "cell_type": "markdown",
      "metadata": {
        "id": "WSqQRkpJPQSb"
      },
      "source": [
        "Using 4 standard deviations from the mean as our cut-off, and using the data listed using the describe function above, are there any outliers?"
      ]
    },
    {
      "cell_type": "code",
      "metadata": {
        "id": "HCnFZgec000S",
        "colab": {
          "base_uri": "https://localhost:8080/",
          "height": 297
        },
        "outputId": "f68f4aa9-1679-4a97-f1a2-8476c9e5ca9f"
      },
      "source": [
        "### YOUR CODE HERE ###\n",
        "\n",
        "columns = ['Weight', 'Length1','Length2', 'Length3', 'Height', 'Width']\n",
        "for column in columns: \n",
        "  fish_data['temp'] = (fish_data[column] - np.mean(fish_data[column]))/np.std(fish_data[column])\n",
        "  fish_data = fish_data.drop(fish_data[fish_data['temp']> 4].index)\n",
        "  fish_data = fish_data.drop(fish_data[fish_data['temp']<= -4].index)\n",
        "  fish_data = fish_data.drop(columns=['temp'])\n",
        "\n",
        "fish_data.describe()\n"
      ],
      "execution_count": 234,
      "outputs": [
        {
          "output_type": "execute_result",
          "data": {
            "text/html": [
              "<div>\n",
              "<style scoped>\n",
              "    .dataframe tbody tr th:only-of-type {\n",
              "        vertical-align: middle;\n",
              "    }\n",
              "\n",
              "    .dataframe tbody tr th {\n",
              "        vertical-align: top;\n",
              "    }\n",
              "\n",
              "    .dataframe thead th {\n",
              "        text-align: right;\n",
              "    }\n",
              "</style>\n",
              "<table border=\"1\" class=\"dataframe\">\n",
              "  <thead>\n",
              "    <tr style=\"text-align: right;\">\n",
              "      <th></th>\n",
              "      <th>Weight</th>\n",
              "      <th>Length1</th>\n",
              "      <th>Length2</th>\n",
              "      <th>Length3</th>\n",
              "      <th>Height</th>\n",
              "      <th>Width</th>\n",
              "    </tr>\n",
              "  </thead>\n",
              "  <tbody>\n",
              "    <tr>\n",
              "      <th>count</th>\n",
              "      <td>158.000000</td>\n",
              "      <td>158.000000</td>\n",
              "      <td>158.000000</td>\n",
              "      <td>158.000000</td>\n",
              "      <td>158.000000</td>\n",
              "      <td>158.000000</td>\n",
              "    </tr>\n",
              "    <tr>\n",
              "      <th>mean</th>\n",
              "      <td>400.847468</td>\n",
              "      <td>26.293038</td>\n",
              "      <td>28.465823</td>\n",
              "      <td>31.280380</td>\n",
              "      <td>8.986790</td>\n",
              "      <td>4.424232</td>\n",
              "    </tr>\n",
              "    <tr>\n",
              "      <th>std</th>\n",
              "      <td>357.697796</td>\n",
              "      <td>10.011427</td>\n",
              "      <td>10.731707</td>\n",
              "      <td>11.627605</td>\n",
              "      <td>4.295191</td>\n",
              "      <td>1.689010</td>\n",
              "    </tr>\n",
              "    <tr>\n",
              "      <th>min</th>\n",
              "      <td>5.900000</td>\n",
              "      <td>7.500000</td>\n",
              "      <td>8.400000</td>\n",
              "      <td>8.800000</td>\n",
              "      <td>1.728400</td>\n",
              "      <td>1.047600</td>\n",
              "    </tr>\n",
              "    <tr>\n",
              "      <th>25%</th>\n",
              "      <td>121.250000</td>\n",
              "      <td>19.150000</td>\n",
              "      <td>21.000000</td>\n",
              "      <td>23.200000</td>\n",
              "      <td>5.940600</td>\n",
              "      <td>3.398650</td>\n",
              "    </tr>\n",
              "    <tr>\n",
              "      <th>50%</th>\n",
              "      <td>281.500000</td>\n",
              "      <td>25.300000</td>\n",
              "      <td>27.400000</td>\n",
              "      <td>29.700000</td>\n",
              "      <td>7.789000</td>\n",
              "      <td>4.277050</td>\n",
              "    </tr>\n",
              "    <tr>\n",
              "      <th>75%</th>\n",
              "      <td>650.000000</td>\n",
              "      <td>32.700000</td>\n",
              "      <td>35.750000</td>\n",
              "      <td>39.675000</td>\n",
              "      <td>12.371850</td>\n",
              "      <td>5.586750</td>\n",
              "    </tr>\n",
              "    <tr>\n",
              "      <th>max</th>\n",
              "      <td>1650.000000</td>\n",
              "      <td>59.000000</td>\n",
              "      <td>63.400000</td>\n",
              "      <td>68.000000</td>\n",
              "      <td>18.957000</td>\n",
              "      <td>8.142000</td>\n",
              "    </tr>\n",
              "  </tbody>\n",
              "</table>\n",
              "</div>"
            ],
            "text/plain": [
              "            Weight     Length1     Length2     Length3      Height       Width\n",
              "count   158.000000  158.000000  158.000000  158.000000  158.000000  158.000000\n",
              "mean    400.847468   26.293038   28.465823   31.280380    8.986790    4.424232\n",
              "std     357.697796   10.011427   10.731707   11.627605    4.295191    1.689010\n",
              "min       5.900000    7.500000    8.400000    8.800000    1.728400    1.047600\n",
              "25%     121.250000   19.150000   21.000000   23.200000    5.940600    3.398650\n",
              "50%     281.500000   25.300000   27.400000   29.700000    7.789000    4.277050\n",
              "75%     650.000000   32.700000   35.750000   39.675000   12.371850    5.586750\n",
              "max    1650.000000   59.000000   63.400000   68.000000   18.957000    8.142000"
            ]
          },
          "metadata": {},
          "execution_count": 234
        }
      ]
    },
    {
      "cell_type": "markdown",
      "metadata": {
        "id": "W-DoY4ozjeel"
      },
      "source": [
        "[YOUR ANSWER HERE] No there is no outliers because no data is revomed from the data set"
      ]
    },
    {
      "cell_type": "markdown",
      "metadata": {
        "id": "se3W2x_PThhC"
      },
      "source": [
        "## Problem 3 - Fish Linear Regression"
      ]
    },
    {
      "cell_type": "markdown",
      "metadata": {
        "id": "3aOeXbcUeZJL"
      },
      "source": [
        "You will now run different versions of linear regression in order to predict fish Weight using the 6 explanatory variables."
      ]
    },
    {
      "cell_type": "markdown",
      "metadata": {
        "id": "TD6Ixu2Welbe"
      },
      "source": [
        "### a) Multiple Linear Regression (6 points)"
      ]
    },
    {
      "cell_type": "markdown",
      "metadata": {
        "id": "E2DFm5KrU7N9"
      },
      "source": [
        "First, run a multiple linear regression using only the height, width, and length measurements to predict weight. We will begin by splitting the data into features **X_fish** and target variable **y_fish**."
      ]
    },
    {
      "cell_type": "code",
      "metadata": {
        "id": "HPuMcF23Vbyl",
        "colab": {
          "base_uri": "https://localhost:8080/"
        },
        "outputId": "b17988db-b179-4cc5-ed28-45a337ac9b1d"
      },
      "source": [
        "y_fish = fish_data.iloc[:, 1] # Get Fish Weights\n",
        "X_fish = fish_data.drop(columns=['Weight']) # Get Fish measurements plus species\n",
        "X_fish = X_fish.drop(columns=['Species']) # Drop the Fish Species for now\n",
        "\n",
        "# Print X.head(), you should have 5 features for each sample\n",
        "print(\"X_fish.head():\")\n",
        "print(X_fish.head())\n",
        "\n",
        "# Print y.head(), you should have one label for each sample\n",
        "print(\"\\ny_fish.head()\")\n",
        "print(y_fish.head())"
      ],
      "execution_count": 235,
      "outputs": [
        {
          "output_type": "stream",
          "name": "stdout",
          "text": [
            "X_fish.head():\n",
            "   Length1  Length2  Length3   Height   Width\n",
            "0     23.2     25.4     30.0  11.5200  4.0200\n",
            "1     24.0     26.3     31.2  12.4800  4.3056\n",
            "2     23.9     26.5     31.1  12.3778  4.6961\n",
            "3     26.3     29.0     33.5  12.7300  4.4555\n",
            "4     26.5     29.0     34.0  12.4440  5.1340\n",
            "\n",
            "y_fish.head()\n",
            "0    242.0\n",
            "1    290.0\n",
            "2    340.0\n",
            "3    363.0\n",
            "4    430.0\n",
            "Name: Weight, dtype: float64\n"
          ]
        }
      ]
    },
    {
      "cell_type": "markdown",
      "metadata": {
        "id": "jypw17XkXuDv"
      },
      "source": [
        "Now, we are almost ready to run regression with scikit-learn. We need to first convert **X_fish** and **y_fish** into numpy arrays and split the data into training and validation splits using sklearn **train_test_split**. \n",
        "\n",
        "sklearn's train_test_split offers customizable functionality when creating training and test sets. For more information, checkout https://scikit-learn.org/stable/modules/generated/sklearn.model_selection.train_test_split.html ."
      ]
    },
    {
      "cell_type": "code",
      "metadata": {
        "id": "I0UOI7KvYA0x"
      },
      "source": [
        "# Convert X, and y into np arrays\n",
        "X_fish = X_fish.values\n",
        "y_fish = y_fish.values\n",
        "\n",
        "# Split data into train test split\n",
        "from sklearn.model_selection import train_test_split\n",
        "X_fish_train, X_fish_test, y_fish_train, y_fish_test = train_test_split(X_fish, y_fish, test_size = 0.2, random_state = 0)"
      ],
      "execution_count": 236,
      "outputs": []
    },
    {
      "cell_type": "markdown",
      "metadata": {
        "id": "qFCSJJ7MYsMj"
      },
      "source": [
        "Now we are ready to run a multiple linear regression. Use sklearn's **LinearRegression** to carry out the regression."
      ]
    },
    {
      "cell_type": "code",
      "metadata": {
        "id": "GHcbvBTTYsF2",
        "colab": {
          "base_uri": "https://localhost:8080/"
        },
        "outputId": "1a7ab1d0-ba5e-4fde-a6e0-59a5f4762b8e"
      },
      "source": [
        "from sklearn.linear_model import LinearRegression\n",
        "regressor = LinearRegression()\n",
        "\n",
        "# Fit the regressor using X_fish_train and y_fish_train\n",
        "### YOUR CODE HERE ###\n",
        "regressor.fit(X_fish_train, y_fish_train)"
      ],
      "execution_count": 237,
      "outputs": [
        {
          "output_type": "execute_result",
          "data": {
            "text/plain": [
              "LinearRegression(copy_X=True, fit_intercept=True, n_jobs=None, normalize=False)"
            ]
          },
          "metadata": {},
          "execution_count": 237
        }
      ]
    },
    {
      "cell_type": "markdown",
      "metadata": {
        "id": "acTg_PwUabeY"
      },
      "source": [
        "Now let's see how we did and generate predictions for X_fish_test. Then print predicted values and actual target values side-by-side for a visual comparison."
      ]
    },
    {
      "cell_type": "code",
      "metadata": {
        "id": "u3BTynP2Yr-B",
        "colab": {
          "base_uri": "https://localhost:8080/"
        },
        "outputId": "892cd2d4-6861-400f-cf8e-24e291747e11"
      },
      "source": [
        "# Generate predictions using X_fish_test\n",
        "y_fish_pred = regressor.predict(X_fish_test) \n",
        "\n",
        "# Print the predictions along with actual weights\n",
        "### YOUR CODE HERE ### \n",
        "print(y_fish_pred, '\\n', y_fish_test)\n",
        "\n",
        "\n",
        "\n",
        "# print(y_fish_pred, y_fish_test['weights'])\n"
      ],
      "execution_count": 238,
      "outputs": [
        {
          "output_type": "stream",
          "name": "stdout",
          "text": [
            "[ 476.59117882  207.99295613  696.61277798  829.8356242   155.66081611\n",
            "  839.43077312  756.42454219  860.9053846   648.06518937  194.36935617\n",
            "  656.33115593  988.3533044   694.41908995   27.97315647   90.40492061\n",
            "  279.88428528  426.51714491  253.27497124  988.3533044   380.41382554\n",
            "  203.773294    873.13422668  776.42866652  514.64529123  156.2549434\n",
            "   98.82407554  423.34057751  638.76055132 -203.30791322  611.87530104\n",
            "  352.87773986  307.75783507] \n",
            " [ 390.   160.   700.  1015.   120.  1100.   820.   950.   556.   145.\n",
            "  700.  1600.   720.    55.    85.   188.   300.   180.  1550.   306.\n",
            "  140.   975.  1000.   450.   110.    78.   300.   650.     6.7  514.\n",
            "  290.   270. ]\n"
          ]
        }
      ]
    },
    {
      "cell_type": "markdown",
      "metadata": {
        "id": "JEoRzxdUZEXE"
      },
      "source": [
        "### b) Computing MSE and R-squared for MLR (5 points)"
      ]
    },
    {
      "cell_type": "markdown",
      "metadata": {
        "id": "J1H01fjoYr3I"
      },
      "source": [
        "The model appears to do an okay job predicting some weights while missing the mark on others. Let's quantify the results by computing mean squared error (MSE) and the coefficient of determination (R-squared). sklearn's metrics package provides functions to compute the values for you. \n",
        "\n",
        "More info can be found here: \n",
        "\n",
        "https://scikit-learn.org/stable/modules/generated/sklearn.metrics.mean_squared_error.html\n",
        "https://scikit-learn.org/stable/modules/generated/sklearn.metrics.r2_score.html"
      ]
    },
    {
      "cell_type": "code",
      "metadata": {
        "id": "_KUunCUyYrvX",
        "colab": {
          "base_uri": "https://localhost:8080/"
        },
        "outputId": "b53fc807-6417-46dc-f6c5-3a14a5e91d0d"
      },
      "source": [
        "from sklearn.metrics import mean_squared_error\n",
        "from sklearn.metrics import r2_score\n",
        "\n",
        "# Compute the mean squared error using y_fish_test and y_fish_pred\n",
        "### YOUR CODE HERE ###\n",
        "mean_squared_error(y_fish_test, y_fish_pred)\n",
        "print('\\n')\n",
        "\n",
        "# Compute the coefficient of determination using y_fish_test and y_fish_pred\n",
        "### YOUR CODE HERE ###\n",
        "r2_score(y_fish_test, y_fish_pred)\n",
        "\n"
      ],
      "execution_count": 239,
      "outputs": [
        {
          "output_type": "stream",
          "name": "stdout",
          "text": [
            "\n",
            "\n"
          ]
        },
        {
          "output_type": "execute_result",
          "data": {
            "text/plain": [
              "0.8245122776931352"
            ]
          },
          "metadata": {},
          "execution_count": 239
        }
      ]
    },
    {
      "cell_type": "markdown",
      "metadata": {
        "id": "jiKHKbSzdWZQ"
      },
      "source": [
        "Using the y_fish_test and y_fish_pred, what was the mean squared error for this model?"
      ]
    },
    {
      "cell_type": "markdown",
      "metadata": {
        "id": "CFUrwJv7dn5d"
      },
      "source": [
        "[YOUR ANSWER HERE]\n",
        "\n",
        "\n",
        "mean_squared_error : 31561.773067541344\n",
        "\n",
        "\n",
        "\n"
      ]
    },
    {
      "cell_type": "markdown",
      "metadata": {
        "id": "dsC4S8pWdrHE"
      },
      "source": [
        "Using the y_fish_test and y_fish_pred, what was the coefficient of detemination for this model?"
      ]
    },
    {
      "cell_type": "markdown",
      "metadata": {
        "id": "M-xqx9NUdrHF"
      },
      "source": [
        "[YOUR ANSWER HERE]\n",
        "\n",
        "r2_score: 0.8245122776931352"
      ]
    },
    {
      "cell_type": "markdown",
      "metadata": {
        "id": "K-UjZojxjv5W"
      },
      "source": [
        "### c) Polynomial Multiple Linear Regression (12 points)"
      ]
    },
    {
      "cell_type": "markdown",
      "metadata": {
        "id": "z8EgAGkAjzCP"
      },
      "source": [
        "We have seen how polynomial regression can increase the predictive power of linear regression models. We will now run a polynomial multiple linear regression model in order to gain a more accurate model. Begin by transforming the features X_fish_test and X_fish_train into second order polynomial space. There will be interaction terms in the transformed dataset as well. For more on interaction terms visit the sklearn docs."
      ]
    },
    {
      "cell_type": "code",
      "metadata": {
        "id": "QlKOME90kDmY",
        "colab": {
          "base_uri": "https://localhost:8080/"
        },
        "outputId": "9b432d3e-5fc7-4e5f-ba5f-2e907927fefa"
      },
      "source": [
        "from sklearn.preprocessing import PolynomialFeatures\n",
        "# Create polynomial transform of degree 2. hint: problem 1\n",
        "poly = PolynomialFeatures(2)\n",
        "\n",
        "# Transform X_fish_train X_fish_test to second order polynomial space\n",
        "X_fish_train_pol = poly.fit_transform(X_fish_train)\n",
        "X_fish_test_pol = poly.fit_transform(X_fish_test)\n",
        "\n",
        "# Print 5 rows of X_fish_train_poly, shape should be (5,21)\n",
        "### YOUR CODE HERE ###\n",
        "print(X_fish_train_pol[0:5,:])"
      ],
      "execution_count": 240,
      "outputs": [
        {
          "output_type": "stream",
          "name": "stdout",
          "text": [
            "[[1.00000000e+00 3.04000000e+01 3.30000000e+01 3.83000000e+01\n",
            "  1.48604000e+01 5.28540000e+00 9.24160000e+02 1.00320000e+03\n",
            "  1.16432000e+03 4.51756160e+02 1.60676160e+02 1.08900000e+03\n",
            "  1.26390000e+03 4.90393200e+02 1.74418200e+02 1.46689000e+03\n",
            "  5.69153320e+02 2.02430820e+02 2.20831488e+02 7.85431582e+01\n",
            "  2.79354532e+01]\n",
            " [1.00000000e+00 3.48000000e+01 3.73000000e+01 3.98000000e+01\n",
            "  6.28840000e+00 4.01980000e+00 1.21104000e+03 1.29804000e+03\n",
            "  1.38504000e+03 2.18836320e+02 1.39889040e+02 1.39129000e+03\n",
            "  1.48454000e+03 2.34557320e+02 1.49938540e+02 1.58404000e+03\n",
            "  2.50278320e+02 1.59988040e+02 3.95439746e+01 2.52781103e+01\n",
            "  1.61587920e+01]\n",
            " [1.00000000e+00 4.00000000e+01 4.25000000e+01 4.55000000e+01\n",
            "  6.82500000e+00 4.45900000e+00 1.60000000e+03 1.70000000e+03\n",
            "  1.82000000e+03 2.73000000e+02 1.78360000e+02 1.80625000e+03\n",
            "  1.93375000e+03 2.90062500e+02 1.89507500e+02 2.07025000e+03\n",
            "  3.10537500e+02 2.02884500e+02 4.65806250e+01 3.04326750e+01\n",
            "  1.98826810e+01]\n",
            " [1.00000000e+00 3.15000000e+01 3.45000000e+01 3.97000000e+01\n",
            "  1.55227000e+01 5.28010000e+00 9.92250000e+02 1.08675000e+03\n",
            "  1.25055000e+03 4.88965050e+02 1.66323150e+02 1.19025000e+03\n",
            "  1.36965000e+03 5.35533150e+02 1.82163450e+02 1.57609000e+03\n",
            "  6.16251190e+02 2.09619970e+02 2.40954215e+02 8.19614083e+01\n",
            "  2.78794560e+01]\n",
            " [1.00000000e+00 2.10000000e+01 2.30000000e+01 2.45000000e+01\n",
            "  5.21850000e+00 3.62600000e+00 4.41000000e+02 4.83000000e+02\n",
            "  5.14500000e+02 1.09588500e+02 7.61460000e+01 5.29000000e+02\n",
            "  5.63500000e+02 1.20025500e+02 8.33980000e+01 6.00250000e+02\n",
            "  1.27853250e+02 8.88370000e+01 2.72327422e+01 1.89222810e+01\n",
            "  1.31478760e+01]]\n"
          ]
        }
      ]
    },
    {
      "cell_type": "markdown",
      "metadata": {
        "id": "21wLW5Y0DTXR"
      },
      "source": [
        "Next run the second order polynomial regression using the transformed data. Instantiate a new regression model and use X_fish_train_pol and y_fish_train to fit the model."
      ]
    },
    {
      "cell_type": "code",
      "metadata": {
        "id": "mRK0BdUlDZOf",
        "colab": {
          "base_uri": "https://localhost:8080/"
        },
        "outputId": "5fc8f40e-2411-483e-a631-4138214f4615"
      },
      "source": [
        "from sklearn.linear_model import LinearRegression\n",
        "regressor =  LinearRegression()\n",
        "\n",
        "# Fit the regressor using X_fish_train_pol and y_fish_train\n",
        "### YOUR CODE HERE ###\n",
        "regressor.fit(X_fish_train_pol, y_fish_train)"
      ],
      "execution_count": 241,
      "outputs": [
        {
          "output_type": "execute_result",
          "data": {
            "text/plain": [
              "LinearRegression(copy_X=True, fit_intercept=True, n_jobs=None, normalize=False)"
            ]
          },
          "metadata": {},
          "execution_count": 241
        }
      ]
    },
    {
      "cell_type": "markdown",
      "metadata": {
        "id": "8Ue0vEm4D0fC"
      },
      "source": [
        "Now let's see how we did with the second model and generate predictions using X_fish_test_pol. Then print predicted values and actual target values side-by-side for a visual comparison."
      ]
    },
    {
      "cell_type": "code",
      "metadata": {
        "id": "dptAnGEhEc1D",
        "colab": {
          "base_uri": "https://localhost:8080/"
        },
        "outputId": "999289be-c883-4682-dfcb-62e81645d6ce"
      },
      "source": [
        "# generate predictions using X_test\n",
        "y_fish_pol_pred = regressor.predict(X_fish_test_pol)  \n",
        "\n",
        "# Print the predictions along with actual weights\n",
        "### YOUR CODE HERE ###\n",
        "print(y_fish_pol_pred, '\\n', y_fish_test)"
      ],
      "execution_count": 242,
      "outputs": [
        {
          "output_type": "stream",
          "name": "stdout",
          "text": [
            "[ 410.78161734  144.99000843  661.08994618  916.20938635  120.28326146\n",
            "  892.29452538  779.33036275  970.51372058  613.97188853  138.75685095\n",
            "  702.96694468 1200.88080985  736.01964613   68.24127116   65.41870351\n",
            "  204.06717258  348.32997005  164.86007088 1200.88080985  301.29364676\n",
            "  132.03878287 1080.95184924  800.55488719  465.06392928  113.12282845\n",
            "   78.16667224  337.9263526   610.88838108   14.31425669  526.27843992\n",
            "  265.75936168  235.08321339] \n",
            " [ 390.   160.   700.  1015.   120.  1100.   820.   950.   556.   145.\n",
            "  700.  1600.   720.    55.    85.   188.   300.   180.  1550.   306.\n",
            "  140.   975.  1000.   450.   110.    78.   300.   650.     6.7  514.\n",
            "  290.   270. ]\n"
          ]
        }
      ]
    },
    {
      "cell_type": "markdown",
      "metadata": {
        "id": "Duo5OHehZYHG"
      },
      "source": [
        "### d) Computing MSE and R-squared for Polynomial Regression (5 points)"
      ]
    },
    {
      "cell_type": "markdown",
      "metadata": {
        "id": "ZBBJcKlcZi4g"
      },
      "source": [
        "Now, compute the MSE and R-squared using y_fish_test and y_fish_pol_pred"
      ]
    },
    {
      "cell_type": "code",
      "metadata": {
        "id": "v9cUc-z_EwJa",
        "colab": {
          "base_uri": "https://localhost:8080/"
        },
        "outputId": "0acde947-afe2-411c-aa3b-6116fdb1cc8f"
      },
      "source": [
        "from sklearn.metrics import mean_squared_error\n",
        "from sklearn.metrics import r2_score\n",
        "\n",
        "# Compute the mean squared error using y_fish_test and y_fish_pol_pred\n",
        "### YOUR CODE HERE ###\n",
        "mean_squared_error(y_fish_test, y_fish_pol_pred)\n",
        "print('\\n')\n",
        "# Compute the coefficient of determination using y_fish_test and y_fish_pol_pred\n",
        "### YOUR CODE HERE ###\n",
        "r2_score(y_fish_test, y_fish_pol_pred)"
      ],
      "execution_count": 243,
      "outputs": [
        {
          "output_type": "stream",
          "name": "stdout",
          "text": [
            "\n",
            "\n"
          ]
        },
        {
          "output_type": "execute_result",
          "data": {
            "text/plain": [
              "0.9302055934939845"
            ]
          },
          "metadata": {},
          "execution_count": 243
        }
      ]
    },
    {
      "cell_type": "markdown",
      "metadata": {
        "id": "EibvMRnCFSN1"
      },
      "source": [
        "Using the y_fish_test and y_fish_pol_pred, what was the mean squared error for this model?"
      ]
    },
    {
      "cell_type": "markdown",
      "metadata": {
        "id": "il_tGDNsFSN1"
      },
      "source": [
        "[YOUR ANSWER HERE]\n",
        "\n",
        "\n",
        "mean_squared_error: 12552.64579521197"
      ]
    },
    {
      "cell_type": "markdown",
      "metadata": {
        "id": "-N2v3ly4FSN2"
      },
      "source": [
        "Using the y_fish_test and y_fish_pol_pred, what was the coefficient of detemination for this model?"
      ]
    },
    {
      "cell_type": "markdown",
      "metadata": {
        "id": "rMdHoxc1Znt4"
      },
      "source": [
        "[YOUR ANSWER HERE]\n",
        "\n",
        "r2_score: 0.9302055934939845"
      ]
    },
    {
      "cell_type": "markdown",
      "metadata": {
        "id": "9hKsk6BrImZL"
      },
      "source": [
        "### e) Multiple Linear Regression With Categorical Variable (12 points)"
      ]
    },
    {
      "cell_type": "markdown",
      "metadata": {
        "id": "mx2i-jbiF5oP"
      },
      "source": [
        "Now that we have done multiple linear regression, and polynomial multiple linear regression, we will now do a multiple linear regression that takes into account the species of fish by creating numeric levels."
      ]
    },
    {
      "cell_type": "code",
      "metadata": {
        "id": "q1stDO11ImZL",
        "colab": {
          "base_uri": "https://localhost:8080/",
          "height": 419
        },
        "outputId": "05fb2191-9f2b-4a18-9461-f503fbb82bad"
      },
      "source": [
        "# print('fish_data = ',fish_data)\n",
        "\n",
        "# Create a copy of fish_data\n",
        "fish_data_species = fish_data\n",
        "\n",
        "# print('fish_data = ',fish_data)\n",
        "# print('fish_data_species = \\n',fish_data_species)\n",
        "# Begin by generating a dictionary that maps all unique species in fish_data to a unique id\n",
        "level_dict = fish_data_species['Species'].map(dict(Bream=0, Roach=1, Whitefish=2, Parkki=3, \n",
        "                                           Perch=4, Pike=5, Smelt=6))\n",
        "\n",
        "#print('fish_data_species = \\n',fish_data_species['Species'])\n",
        "#print('level_dict \\n', level_dict)\n",
        "# Uses the level dictionary to retrieve the id\n",
        "def integer_encode_level(level):\n",
        "    ### YOUR CODE HERE ###\n",
        "    return level\n",
        "    #print(\"Inside func!\")\n",
        "    #fish_data_species['Species'] = level\n",
        "    # level = {\n",
        "    #     \"Bream\": 0,\n",
        "    #     \"Roach\": 1,\n",
        "    #     \"Whitefish\": 2,\n",
        "    #     \"Parkki\": 3,\n",
        "    #     \"Perch\": 4,\n",
        "    #     \"Pike\": 5,\n",
        "    #     \"Smelt\": 6,\n",
        "    # }\n",
        "\n",
        "# Apply the function to the Species column and store in Species column (you should overwrite the species current data with the numeric representations)\n",
        "fish_data_species['Species'] = integer_encode_level(level_dict)\n",
        "# \n",
        "\n",
        "# Check data\n",
        "fish_data_species"
      ],
      "execution_count": 244,
      "outputs": [
        {
          "output_type": "execute_result",
          "data": {
            "text/html": [
              "<div>\n",
              "<style scoped>\n",
              "    .dataframe tbody tr th:only-of-type {\n",
              "        vertical-align: middle;\n",
              "    }\n",
              "\n",
              "    .dataframe tbody tr th {\n",
              "        vertical-align: top;\n",
              "    }\n",
              "\n",
              "    .dataframe thead th {\n",
              "        text-align: right;\n",
              "    }\n",
              "</style>\n",
              "<table border=\"1\" class=\"dataframe\">\n",
              "  <thead>\n",
              "    <tr style=\"text-align: right;\">\n",
              "      <th></th>\n",
              "      <th>Species</th>\n",
              "      <th>Weight</th>\n",
              "      <th>Length1</th>\n",
              "      <th>Length2</th>\n",
              "      <th>Length3</th>\n",
              "      <th>Height</th>\n",
              "      <th>Width</th>\n",
              "    </tr>\n",
              "  </thead>\n",
              "  <tbody>\n",
              "    <tr>\n",
              "      <th>0</th>\n",
              "      <td>0</td>\n",
              "      <td>242.0</td>\n",
              "      <td>23.2</td>\n",
              "      <td>25.4</td>\n",
              "      <td>30.0</td>\n",
              "      <td>11.5200</td>\n",
              "      <td>4.0200</td>\n",
              "    </tr>\n",
              "    <tr>\n",
              "      <th>1</th>\n",
              "      <td>0</td>\n",
              "      <td>290.0</td>\n",
              "      <td>24.0</td>\n",
              "      <td>26.3</td>\n",
              "      <td>31.2</td>\n",
              "      <td>12.4800</td>\n",
              "      <td>4.3056</td>\n",
              "    </tr>\n",
              "    <tr>\n",
              "      <th>2</th>\n",
              "      <td>0</td>\n",
              "      <td>340.0</td>\n",
              "      <td>23.9</td>\n",
              "      <td>26.5</td>\n",
              "      <td>31.1</td>\n",
              "      <td>12.3778</td>\n",
              "      <td>4.6961</td>\n",
              "    </tr>\n",
              "    <tr>\n",
              "      <th>3</th>\n",
              "      <td>0</td>\n",
              "      <td>363.0</td>\n",
              "      <td>26.3</td>\n",
              "      <td>29.0</td>\n",
              "      <td>33.5</td>\n",
              "      <td>12.7300</td>\n",
              "      <td>4.4555</td>\n",
              "    </tr>\n",
              "    <tr>\n",
              "      <th>4</th>\n",
              "      <td>0</td>\n",
              "      <td>430.0</td>\n",
              "      <td>26.5</td>\n",
              "      <td>29.0</td>\n",
              "      <td>34.0</td>\n",
              "      <td>12.4440</td>\n",
              "      <td>5.1340</td>\n",
              "    </tr>\n",
              "    <tr>\n",
              "      <th>...</th>\n",
              "      <td>...</td>\n",
              "      <td>...</td>\n",
              "      <td>...</td>\n",
              "      <td>...</td>\n",
              "      <td>...</td>\n",
              "      <td>...</td>\n",
              "      <td>...</td>\n",
              "    </tr>\n",
              "    <tr>\n",
              "      <th>154</th>\n",
              "      <td>6</td>\n",
              "      <td>12.2</td>\n",
              "      <td>11.5</td>\n",
              "      <td>12.2</td>\n",
              "      <td>13.4</td>\n",
              "      <td>2.0904</td>\n",
              "      <td>1.3936</td>\n",
              "    </tr>\n",
              "    <tr>\n",
              "      <th>155</th>\n",
              "      <td>6</td>\n",
              "      <td>13.4</td>\n",
              "      <td>11.7</td>\n",
              "      <td>12.4</td>\n",
              "      <td>13.5</td>\n",
              "      <td>2.4300</td>\n",
              "      <td>1.2690</td>\n",
              "    </tr>\n",
              "    <tr>\n",
              "      <th>156</th>\n",
              "      <td>6</td>\n",
              "      <td>12.2</td>\n",
              "      <td>12.1</td>\n",
              "      <td>13.0</td>\n",
              "      <td>13.8</td>\n",
              "      <td>2.2770</td>\n",
              "      <td>1.2558</td>\n",
              "    </tr>\n",
              "    <tr>\n",
              "      <th>157</th>\n",
              "      <td>6</td>\n",
              "      <td>19.7</td>\n",
              "      <td>13.2</td>\n",
              "      <td>14.3</td>\n",
              "      <td>15.2</td>\n",
              "      <td>2.8728</td>\n",
              "      <td>2.0672</td>\n",
              "    </tr>\n",
              "    <tr>\n",
              "      <th>158</th>\n",
              "      <td>6</td>\n",
              "      <td>19.9</td>\n",
              "      <td>13.8</td>\n",
              "      <td>15.0</td>\n",
              "      <td>16.2</td>\n",
              "      <td>2.9322</td>\n",
              "      <td>1.8792</td>\n",
              "    </tr>\n",
              "  </tbody>\n",
              "</table>\n",
              "<p>158 rows × 7 columns</p>\n",
              "</div>"
            ],
            "text/plain": [
              "     Species  Weight  Length1  Length2  Length3   Height   Width\n",
              "0          0   242.0     23.2     25.4     30.0  11.5200  4.0200\n",
              "1          0   290.0     24.0     26.3     31.2  12.4800  4.3056\n",
              "2          0   340.0     23.9     26.5     31.1  12.3778  4.6961\n",
              "3          0   363.0     26.3     29.0     33.5  12.7300  4.4555\n",
              "4          0   430.0     26.5     29.0     34.0  12.4440  5.1340\n",
              "..       ...     ...      ...      ...      ...      ...     ...\n",
              "154        6    12.2     11.5     12.2     13.4   2.0904  1.3936\n",
              "155        6    13.4     11.7     12.4     13.5   2.4300  1.2690\n",
              "156        6    12.2     12.1     13.0     13.8   2.2770  1.2558\n",
              "157        6    19.7     13.2     14.3     15.2   2.8728  2.0672\n",
              "158        6    19.9     13.8     15.0     16.2   2.9322  1.8792\n",
              "\n",
              "[158 rows x 7 columns]"
            ]
          },
          "metadata": {},
          "execution_count": 244
        }
      ]
    },
    {
      "cell_type": "code",
      "metadata": {
        "colab": {
          "base_uri": "https://localhost:8080/"
        },
        "id": "GJI1ncO7OjoM",
        "outputId": "d49001e4-df37-47fc-f522-8515c533b3b6"
      },
      "source": [
        "from google.colab import drive\n",
        "drive.mount('/content/drive')"
      ],
      "execution_count": 245,
      "outputs": [
        {
          "output_type": "stream",
          "name": "stdout",
          "text": [
            "Drive already mounted at /content/drive; to attempt to forcibly remount, call drive.mount(\"/content/drive\", force_remount=True).\n"
          ]
        }
      ]
    },
    {
      "cell_type": "markdown",
      "metadata": {
        "id": "wY-3cKNAK3cX"
      },
      "source": [
        "We will now create a dataset with 1 target column and 6 feature columns: Species, Length1, Length2, Length3, Height, Width. "
      ]
    },
    {
      "cell_type": "code",
      "metadata": {
        "id": "t49zhMyUJni-",
        "colab": {
          "base_uri": "https://localhost:8080/"
        },
        "outputId": "1705f911-138d-4d64-efd4-6c4ce996381f"
      },
      "source": [
        "# Split fish_data into \n",
        "y_fish_categorical = fish_data_species.iloc[:, 1] # Get Fish Weights\n",
        "X_fish_categorical = fish_data_species.drop(columns=['Weight']) # Get Fish measurements plus species\n",
        "\n",
        "# Print X_fish_categorical.head(), you should have 6 features for each sample\n",
        "print(\"X_fish_categorical.head():\")\n",
        "print(X_fish_categorical.head())\n",
        "\n",
        "# Print y_fish_categorical.head(), you should have one label for each sample\n",
        "print(\"\\ny_fish_categorical.head()\")\n",
        "print(y_fish_categorical.head())"
      ],
      "execution_count": 246,
      "outputs": [
        {
          "output_type": "stream",
          "name": "stdout",
          "text": [
            "X_fish_categorical.head():\n",
            "   Species  Length1  Length2  Length3   Height   Width\n",
            "0        0     23.2     25.4     30.0  11.5200  4.0200\n",
            "1        0     24.0     26.3     31.2  12.4800  4.3056\n",
            "2        0     23.9     26.5     31.1  12.3778  4.6961\n",
            "3        0     26.3     29.0     33.5  12.7300  4.4555\n",
            "4        0     26.5     29.0     34.0  12.4440  5.1340\n",
            "\n",
            "y_fish_categorical.head()\n",
            "0    242.0\n",
            "1    290.0\n",
            "2    340.0\n",
            "3    363.0\n",
            "4    430.0\n",
            "Name: Weight, dtype: float64\n"
          ]
        }
      ]
    },
    {
      "cell_type": "markdown",
      "metadata": {
        "id": "-vlKZB6CK6U-"
      },
      "source": [
        "Create training and test sets for the fish data with categorical species variable:"
      ]
    },
    {
      "cell_type": "code",
      "metadata": {
        "id": "JzzEthUHJndk"
      },
      "source": [
        "# Convert X, and y into np arrays\n",
        "X_fish_categorical = X_fish_categorical.values\n",
        "y_fish_categorical = y_fish_categorical.values\n",
        "\n",
        "# Split data into train test split\n",
        "from sklearn.model_selection import train_test_split\n",
        "X_fish_train_categorical, X_fish_test_categorical, y_fish_train_categorical, y_fish_test_categorical = train_test_split(X_fish_categorical, y_fish_categorical, test_size = 0.2, random_state = 0)"
      ],
      "execution_count": 247,
      "outputs": []
    },
    {
      "cell_type": "markdown",
      "metadata": {
        "id": "gTp4MctlI3WL"
      },
      "source": [
        "Now we are ready to run a our final multiple linear regression. As a recap, we added a categorical variable to represent the species of fish. We encoded the species as levels, and overwrote the species column with the numeric representations of the species. Now, use sklearn's **LinearRegression** to carry out regression one last time."
      ]
    },
    {
      "cell_type": "code",
      "metadata": {
        "id": "E3anA9_dLZEy",
        "colab": {
          "base_uri": "https://localhost:8080/"
        },
        "outputId": "0f94b657-2a03-49cb-c9b7-be95339e84a6"
      },
      "source": [
        "from sklearn.linear_model import LinearRegression\n",
        "regressor = LinearRegression()\n",
        "\n",
        "# Fit the regressor using X_fish_train_categorical and y_fish_train_categorical\n",
        "### YOUR CODE HERE ###\n",
        "regressor.fit(X_fish_train_categorical, y_fish_train_categorical)"
      ],
      "execution_count": 248,
      "outputs": [
        {
          "output_type": "execute_result",
          "data": {
            "text/plain": [
              "LinearRegression(copy_X=True, fit_intercept=True, n_jobs=None, normalize=False)"
            ]
          },
          "metadata": {},
          "execution_count": 248
        }
      ]
    },
    {
      "cell_type": "markdown",
      "metadata": {
        "id": "6Oac4Ng3L_h3"
      },
      "source": [
        "Let's check the predictions for this model and generate predictions using X_fish_test_categorical. Then print target and estimated weight values side-by-side."
      ]
    },
    {
      "cell_type": "code",
      "metadata": {
        "id": "-e63kqUtL3PW",
        "colab": {
          "base_uri": "https://localhost:8080/"
        },
        "outputId": "a136f7d5-c9e4-4ddd-8ff4-f11fa2cf44a9"
      },
      "source": [
        "# generate predictions using X_fish_test_categorical\n",
        "y_fish_pred_categorical = regressor.predict(X_fish_test_categorical)\n",
        "\n",
        "\n",
        "# Print the predictions along with actual weights\n",
        "### YOUR CODE HERE ###\n",
        "print(y_fish_pred_categorical, '\\n', y_fish_test) "
      ],
      "execution_count": 249,
      "outputs": [
        {
          "output_type": "stream",
          "name": "stdout",
          "text": [
            "[ 462.41622504  140.46342332  707.81903709  871.12283244  143.05409674\n",
            "  843.12937914  769.57751944  868.49680239  666.59839913  194.15313938\n",
            "  672.81491228  960.51330242  736.90986176   -2.95444362   41.01945186\n",
            "  284.75537218  561.73456426  224.74914601  960.51330242  350.84272643\n",
            "   72.02506985  829.14247276  732.9478214   509.48163199   42.63910432\n",
            "  -17.63979818  419.59866662  639.90483734 -123.28748213  564.13814055\n",
            "  296.09034527  277.24831537] \n",
            " [ 390.   160.   700.  1015.   120.  1100.   820.   950.   556.   145.\n",
            "  700.  1600.   720.    55.    85.   188.   300.   180.  1550.   306.\n",
            "  140.   975.  1000.   450.   110.    78.   300.   650.     6.7  514.\n",
            "  290.   270. ]\n"
          ]
        }
      ]
    },
    {
      "cell_type": "markdown",
      "metadata": {
        "id": "lz031lPOZuDJ"
      },
      "source": [
        "### f) Computing MSE and R-squared for MLR with Categorical Variable (5 points)"
      ]
    },
    {
      "cell_type": "code",
      "metadata": {
        "id": "vxN7AuQKMkii",
        "colab": {
          "base_uri": "https://localhost:8080/"
        },
        "outputId": "bf9730c0-2ed6-414b-dfe9-5d4187bc71d9"
      },
      "source": [
        "# Compute the mean squared error using y_fish_test_categorical and y_fish_pred_categorical\n",
        "### YOUR CODE HERE ###\n",
        "mean_squared_error(y_fish_test_categorical, y_fish_pred_categorical)\n",
        "print('\\n')\n",
        "\n",
        "\n",
        "# Compute the coefficient of determination using y_fish_test_categorical and y_fish_pred_categorical\n",
        "### YOUR CODE HERE ###\n",
        "r2_score(y_fish_test_categorical, y_fish_pred_categorical)"
      ],
      "execution_count": 250,
      "outputs": [
        {
          "output_type": "stream",
          "name": "stdout",
          "text": [
            "\n",
            "\n"
          ]
        },
        {
          "output_type": "execute_result",
          "data": {
            "text/plain": [
              "0.807183047430761"
            ]
          },
          "metadata": {},
          "execution_count": 250
        }
      ]
    },
    {
      "cell_type": "markdown",
      "metadata": {
        "id": "-PNcaCIHMkij"
      },
      "source": [
        "Using y_fish_test_categorical and y_fish_pred_categorical, what was the mean squared error for this model?"
      ]
    },
    {
      "cell_type": "markdown",
      "metadata": {
        "id": "3qdvVAuyMkij"
      },
      "source": [
        "[YOUR ANSWER HERE]\n",
        "\n",
        "mean_squared_error: 34678.46536821308"
      ]
    },
    {
      "cell_type": "markdown",
      "metadata": {
        "id": "wwUEH3VwMkij"
      },
      "source": [
        "Using y_fish_test_categorical and y_fish_pred_categorical, what was the coefficient of detemination for this model?"
      ]
    },
    {
      "cell_type": "markdown",
      "metadata": {
        "id": "9eCKexTmNNQI"
      },
      "source": [
        "[YOUR ANSWER HERE]\n",
        "\n",
        "r2_score:  0.807183047430761"
      ]
    },
    {
      "cell_type": "markdown",
      "metadata": {
        "id": "E7Mj2JJcImZW"
      },
      "source": [
        "### g) Researching for the Best Model (15 points)"
      ]
    },
    {
      "cell_type": "markdown",
      "metadata": {
        "id": "Iqy3IOXwNXuw"
      },
      "source": [
        "Read [this](https://www.datarobot.com/blog/regularized-linear-regression-with-scikit-learn/) tutorial to see how you can control the degree of the polynomial and train a **Regularized** linear regression model.\n",
        "\n",
        "In the cell below, investigate and show your observations on:\n",
        "1. Which features are important?\n",
        "2. What polynomial order is appropriate for the model to have an appropriate fit (no overfitting or underfitting)?\n",
        "3. The impact of regularization (L2 norm or L1 norm) and the regularizer factor/parameter on model's generalization capability.\n",
        "4. Finally, report your best model (including model's cost function, regularizer, regularizer factor, and polynomial order) along with a plot of model's performance on the training data and test data. We expect this model to perform better than all prior models you trained."
      ]
    },
    {
      "cell_type": "code",
      "metadata": {
        "id": "bZG3jRfW7-wu",
        "colab": {
          "base_uri": "https://localhost:8080/",
          "height": 1000
        },
        "outputId": "28c1b664-6683-4338-ee23-3f26917716f1"
      },
      "source": [
        "### YOUR CODE HERE ###\n",
        "##how you want to design your own model.\n",
        "\n",
        "from sklearn.preprocessing import PolynomialFeatures\n",
        "from sklearn.linear_model import LinearRegression, Ridge, Lasso\n",
        "from sklearn.metrics import mean_squared_error\n",
        "from sklearn.metrics import r2_score\n",
        "from sklearn.inspection import permutation_importance\n",
        "from sklearn.model_selection import cross_val_score\n",
        "from statistics import mean\n",
        "from math import sqrt\n",
        "\n",
        "\n",
        "# model = Ridge(alpha=1e-2).fit(X_fish_train, y_fish_train)\n",
        "# print(model.score(X_fish_test, y_fish_test))\n",
        "regressor =  LinearRegression()\n",
        "regressor.fit(X_fish_train, y_fish_train)\n",
        "\n",
        "\n",
        "r = permutation_importance(regressor, X_fish_test, y_fish_test,\n",
        "                            n_repeats=30,\n",
        "                            random_state=0)\n",
        "\n",
        "for i in r.importances_mean.argsort()[::-1]:\n",
        "    if r.importances_mean[i] - 2 * r.importances_std[i] > 0:\n",
        "        print(f\"{fish_data.columns[i]:<8}\"\n",
        "              f\"{r.importances_mean[i]:.3f}\"\n",
        "              f\" +/- {r.importances_std[i]:.3f}\")\n",
        "\n",
        "\n",
        "\n",
        "\n",
        "train_error = np.empty(10)\n",
        "train_error[0] = 0\n",
        "test_error = np.empty(10)\n",
        "test_error[0] = 0\n",
        "for degree in range(1,10):\n",
        "  poly = PolynomialFeatures(degree)\n",
        "  X_fish_train_pol = poly.fit_transform(X_fish_train)\n",
        "  X_fish_test_pol = poly.fit_transform(X_fish_test)\n",
        "  regressor =  LinearRegression()\n",
        "\n",
        "  regressor.fit(X_fish_train_pol, y_fish_train)\n",
        "\n",
        "  train_error[degree] = mean_squared_error(y_fish_train, regressor.predict(X_fish_train_pol))\n",
        "  test_error[degree] = mean_squared_error(y_fish_test, regressor.predict(X_fish_test_pol))\n",
        "\n",
        "print(\"\\n\", train_error, \"\\n\")\n",
        "print(\"\\n\", test_error, \"\\n\")\n",
        "plt.plot(np.arange(10), train_error, color='green', label='train')\n",
        "#plt.plot(np.arange(10), test_error, color='red', label='test')\n",
        "\n",
        "plt.ylabel('log(mean squared error)')\n",
        "plt.xlabel('degree')\n",
        "plt.legend(loc='lower left')\n",
        " \n",
        "#plt.plot(np.arange(10), train_error, color='green', label='train')\n",
        "plt.plot(np.arange(10), test_error, color='red', label='test')\n",
        "\n",
        "plt.ylabel('log(mean squared error)')\n",
        "plt.xlabel('degree')\n",
        "plt.legend(loc='lower left')\n",
        "\n",
        "\n",
        "alpha = []\n",
        " \n",
        "# Loop to compute the different values of cross-validation scores\n",
        "for i in range(1, 9):\n",
        "  rr = Ridge(alpha = i * 0.25)\n",
        "  rr.fit(X_fish_train, y_fish_train) \n",
        "  pred_train_rr= rr.predict(X_fish_train)\n",
        "  print(np.sqrt(mean_squared_error(y_fish_train,pred_train_rr)))\n",
        "  print(r2_score(y_fish_train, pred_train_rr))\n",
        "\n",
        "  pred_test_rr= rr.predict(X_fish_test)\n",
        "  print(np.sqrt(mean_squared_error(y_fish_test,pred_test_rr))) \n",
        "  print(r2_score(y_fish_test, pred_test_rr))\n",
        "\n",
        "\n",
        "Lambda = []\n",
        "\n",
        "for i in range(1, 9):\n",
        "  model_lasso = Lasso(alpha = i * 0.25, tol = 0.0925)\n",
        "  model_lasso.fit(X_fish_train, y_fish_train) \n",
        "  pred_train_lasso= model_lasso.predict(X_fish_train)\n",
        "  print(np.sqrt(mean_squared_error(y_fish_train,pred_train_lasso)))\n",
        "  print(r2_score(y_fish_train, pred_train_lasso))\n",
        "\n",
        "  pred_test_lasso= model_lasso.predict(X_fish_test)\n",
        "  print(np.sqrt(mean_squared_error(y_fish_test,pred_test_lasso))) \n",
        "  print(r2_score(y_fish_test, pred_test_lasso))\n",
        "\n",
        "\n",
        "\n",
        "\n",
        "\n",
        "# # List to maintain the different cross-validation scores\n",
        "# cross_val_scores_ridge = []\n",
        " \n",
        "# # List to maintain the different values of alpha\n",
        "# alpha = []\n",
        " \n",
        "# # Loop to compute the different values of cross-validation scores\n",
        "# for i in range(1, 9):\n",
        "#     ridgeModel = Ridge(alpha = i * 0.25)\n",
        "#     ridgeModel.fit(X_fish_train, y_fish_train)\n",
        "#     scores = cross_val_score(ridgeModel, X_fish_test, y_fish_test, cv = 10)\n",
        "#     avg_cross_val_score = mean(scores)*100\n",
        "#     cross_val_scores_ridge.append(avg_cross_val_score)\n",
        "#     alpha.append(i * 0.25)\n",
        " \n",
        "# # Loop to print the different values of cross-validation scores\n",
        "# for i in range(0, len(alpha)):\n",
        "#     print(str(alpha[i])+' : '+str(cross_val_scores_ridge[i]))\n",
        "\n",
        "# # Building and fitting the Ridge Regression model\n",
        "# ridgeModelChosen = Ridge(alpha = 0.25)\n",
        "# ridgeModelChosen.fit(X_fish_train, y_fish_train)\n",
        " \n",
        "# # Evaluating the Ridge Regression model\n",
        "# print(\"\\n\", ridgeModelChosen.score(X_fish_test, y_fish_test))\n",
        "\n",
        "\n",
        "# cross_val_scores_lasso = []\n",
        " \n",
        "# # List to maintain the different values of Lambda\n",
        "# Lambda = []\n",
        " \n",
        "# # Loop to compute the cross-validation scores\n",
        "# for i in range(1, 9):\n",
        "#     lassoModel = Lasso(alpha = i * 0.25, tol = 0.0925)\n",
        "#     lassoModel.fit(X_fish_train, y_fish_train)\n",
        "#     scores = cross_val_score(lassoModel, X_fish_test, y_fish_test, cv = 10)\n",
        "#     avg_cross_val_score = mean(scores)*100\n",
        "#     cross_val_scores_lasso.append(avg_cross_val_score)\n",
        "#     Lambda.append(i * 0.25)\n",
        " \n",
        "# # Loop to print the different values of cross-validation scores\n",
        "# for i in range(0, len(alpha)):\n",
        "#     print(str(alpha[i])+' : '+str(cross_val_scores_lasso[i]))\n",
        "\n",
        "#     # Building and fitting the Lasso Regression Model\n",
        "# lassoModelChosen = Lasso(alpha = 0.5, tol = 0.0925)\n",
        "# lassoModelChosen.fit(X_fish_train, y_fish_train)\n",
        " \n",
        "# # Evaluating the Lasso Regression model\n",
        "# print(lassoModelChosen.score(X_fish_test, y_fish_test))\n",
        "\n",
        "\n",
        "\n"
      ],
      "execution_count": 300,
      "outputs": [
        {
          "output_type": "stream",
          "name": "stdout",
          "text": [
            "Species 6.639 +/- 0.911\n",
            "Weight  0.980 +/- 0.179\n",
            "Length3 0.172 +/- 0.043\n",
            "Length2 0.111 +/- 0.033\n",
            "Length1 0.105 +/- 0.052\n",
            "\n",
            " [0.00000000e+00 1.19913398e+04 1.28893159e+03 2.11808997e+04\n",
            " 3.51127889e-05 1.02085260e-11 3.18858789e-07 5.91019011e-06\n",
            " 4.22854073e-06 2.43424262e-04] \n",
            "\n",
            "\n",
            " [0.00000000e+00 3.15617731e+04 1.25526458e+04 2.90441682e+05\n",
            " 1.11227736e+12 5.08048817e+07 3.68500106e+07 2.84407987e+09\n",
            " 9.78391078e+10 2.05072210e+12] \n",
            "\n",
            "109.50752921612458\n",
            "0.8907118198799737\n",
            "177.47073099014494\n",
            "0.8248787612621278\n",
            "109.51415275709833\n",
            "0.8906985989327774\n",
            "177.29940182414336\n",
            "0.8252167200125812\n",
            "109.52364412509345\n",
            "0.8906796522532968\n",
            "177.14001566402513\n",
            "0.8255308272667287\n",
            "109.5351481451351\n",
            "0.8906566857143381\n",
            "176.99073728141758\n",
            "0.8258247586158914\n",
            "109.54805107272034\n",
            "0.8906309235368629\n",
            "176.85010247554732\n",
            "0.8261014439370847\n",
            "109.561909197997\n",
            "0.8906032508176294\n",
            "176.7169290183453\n",
            "0.8263632470347401\n",
            "109.57640004362204\n",
            "0.8905743109013771\n",
            "176.59025196469497\n",
            "0.8266120959560685\n",
            "109.5912885001836\n",
            "0.8905445729231474\n",
            "176.4692759191887\n",
            "0.826849579031546\n",
            "110.991992356307\n",
            "0.88772875771739\n",
            "174.83363458035177\n",
            "0.8300444635913126\n",
            "111.00543748985498\n",
            "0.8877015558762194\n",
            "174.67258853980462\n",
            "0.8303574246549241\n",
            "111.01892753707502\n",
            "0.8876742598554336\n",
            "174.51550075117134\n",
            "0.8306624157729731\n",
            "111.03410398237713\n",
            "0.8876435475794825\n",
            "174.35525143333155\n",
            "0.8309732623543011\n",
            "111.05041233253077\n",
            "0.887610540010326\n",
            "174.1978507519974\n",
            "0.8312783052427752\n",
            "111.06739681022573\n",
            "0.8875761588277318\n",
            "174.04088095786562\n",
            "0.8315822386966982\n",
            "111.0850571053302\n",
            "0.8875404040316995\n",
            "173.8843432178546\n",
            "0.83188506271607\n",
            "111.10339289557311\n",
            "0.8875032756222293\n",
            "173.72823869987076\n",
            "0.8321867773008904\n"
          ]
        },
        {
          "output_type": "display_data",
          "data": {
            "image/png": "[encoded data removed]",
            "text/plain": [
              "<Figure size 432x288 with 1 Axes>"
            ]
          },
          "metadata": {
            "needs_background": "light"
          }
        }
      ]
    },
    {
      "cell_type": "markdown",
      "metadata": {
        "id": "xxOSRtkkOxYb"
      },
      "source": [
        "[YOUR ANSWER HERE]\n",
        "\n",
        "The second models we ran worked the best (degree 2) because the error on training set and testing set are both low.\n",
        "\n",
        "From the Ridge, we can conclude that the best value of alpha for the data is 0.25.\n",
        "From the Lasso, we can conclude that the best value of alpha for the data is 0.5.\n",
        " "
      ]
    }
  ]
}